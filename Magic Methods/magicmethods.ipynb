{
 "cells": [
  {
   "cell_type": "markdown",
   "id": "672f65ba",
   "metadata": {},
   "source": [
    "### Python Magic methods are the methods starting and ending with double underscores '__'. They are defined by built-in classes in Python and commonly used for operator overloading. \n",
    "They are also called Dunder methods, Dunder here means \"Double Under (Underscores)\"."
   ]
  },
  {
   "cell_type": "code",
   "execution_count": 1,
   "id": "535f0e66",
   "metadata": {},
   "outputs": [
    {
     "name": "stdout",
     "output_type": "stream",
     "text": [
      "<__main__.Person object at 0x000001CAC417C440>\n"
     ]
    }
   ],
   "source": [
    "class Person:\n",
    "    pass\n",
    "\n",
    "person = Person()\n",
    "print(person)"
   ]
  },
  {
   "cell_type": "code",
   "execution_count": 2,
   "id": "fa26a555",
   "metadata": {},
   "outputs": [
    {
     "data": {
      "text/plain": [
       "['__class__',\n",
       " '__delattr__',\n",
       " '__dict__',\n",
       " '__dir__',\n",
       " '__doc__',\n",
       " '__eq__',\n",
       " '__firstlineno__',\n",
       " '__format__',\n",
       " '__ge__',\n",
       " '__getattribute__',\n",
       " '__getstate__',\n",
       " '__gt__',\n",
       " '__hash__',\n",
       " '__init__',\n",
       " '__init_subclass__',\n",
       " '__le__',\n",
       " '__lt__',\n",
       " '__module__',\n",
       " '__ne__',\n",
       " '__new__',\n",
       " '__reduce__',\n",
       " '__reduce_ex__',\n",
       " '__repr__',\n",
       " '__setattr__',\n",
       " '__sizeof__',\n",
       " '__static_attributes__',\n",
       " '__str__',\n",
       " '__subclasshook__',\n",
       " '__weakref__']"
      ]
     },
     "execution_count": 2,
     "metadata": {},
     "output_type": "execute_result"
    }
   ],
   "source": [
    "dir(person)"
   ]
  },
  {
   "cell_type": "code",
   "execution_count": null,
   "id": "80d6f84c",
   "metadata": {},
   "outputs": [
    {
     "name": "stdout",
     "output_type": "stream",
     "text": [
      "<__main__.Person object at 0x000001CAC417D7F0>\n",
      "If I want to override the above message what can be done??, we define the __str__ function\n"
     ]
    }
   ],
   "source": [
    "## Basic magic methods\n",
    "class Person:\n",
    "    def __init__(self, name, age):\n",
    "        self.name = name\n",
    "        self.age = age\n",
    "\n",
    "person = Person(\"Prasad\", 22)\n",
    "print(person)\n",
    "print(\"If I want to override the above message what can be done??, we define the __str__ function\")"
   ]
  },
  {
   "cell_type": "code",
   "execution_count": 6,
   "id": "42818695",
   "metadata": {},
   "outputs": [
    {
     "name": "stdout",
     "output_type": "stream",
     "text": [
      "Prasad, 22 years old\n"
     ]
    }
   ],
   "source": [
    "## Basic magic methods\n",
    "class Person:\n",
    "    def __init__(self, name, age):\n",
    "        self.name = name\n",
    "        self.age = age\n",
    "\n",
    "    def __str__(self):\n",
    "        return f\"{self.name}, {self.age} years old\"\n",
    "person = Person(\"Prasad\", 22)\n",
    "print(person)"
   ]
  },
  {
   "cell_type": "code",
   "execution_count": 7,
   "id": "d1c75c1e",
   "metadata": {},
   "outputs": [
    {
     "name": "stdout",
     "output_type": "stream",
     "text": [
      "Prasad, 22 years old\n",
      "Person(name=Prasad, age=22)\n"
     ]
    }
   ],
   "source": [
    "## Basic magic methods\n",
    "class Person:\n",
    "    def __init__(self, name, age):\n",
    "        self.name = name\n",
    "        self.age = age\n",
    "\n",
    "    def __str__(self):\n",
    "        return f\"{self.name}, {self.age} years old\"\n",
    "    \n",
    "    def __repr__(self):\n",
    "        return f\"Person(name={self.name}, age={self.age})\"\n",
    "person = Person(\"Prasad\", 22)\n",
    "print(person)\n",
    "print(repr(person))"
   ]
  },
  {
   "cell_type": "markdown",
   "id": "3ff02746",
   "metadata": {},
   "source": [
    "### Operator Overloading"
   ]
  },
  {
   "cell_type": "code",
   "execution_count": 1,
   "id": "743b3ba9",
   "metadata": {},
   "outputs": [
    {
     "data": {
      "text/plain": [
       "'\\n+ (Addition)\\t__add__(self, other)\\n- (Subtraction)\\t__sub__(self, other)\\n* (Multiplication)\\t__mul__(self, other)\\n/ (Division)\\t__truediv__(self, other)\\n% (Modulo)\\t__mod__(self, other)\\n** (Power)\\t__pow__(self, other)\\n< (Less than)\\t__lt__(self, other)\\n> (Greater than)\\t__gt__(self, other)\\n<= (Less than or equal to)\\t__le__(self, other)\\n>= (Greater than or equal to)\\t__ge__(self, other)\\n== (Equal)\\t__eq__(self, other)\\n!= (Not equal)\\t__ne__(self, other)\\n'"
      ]
     },
     "execution_count": 1,
     "metadata": {},
     "output_type": "execute_result"
    }
   ],
   "source": [
    "'''\n",
    "+ (Addition)\t__add__(self, other)\n",
    "- (Subtraction)\t__sub__(self, other)\n",
    "* (Multiplication)\t__mul__(self, other)\n",
    "/ (Division)\t__truediv__(self, other)\n",
    "% (Modulo)\t__mod__(self, other)\n",
    "** (Power)\t__pow__(self, other)\n",
    "< (Less than)\t__lt__(self, other)\n",
    "> (Greater than)\t__gt__(self, other)\n",
    "<= (Less than or equal to)\t__le__(self, other)\n",
    ">= (Greater than or equal to)\t__ge__(self, other)\n",
    "== (Equal)\t__eq__(self, other)\n",
    "!= (Not equal)\t__ne__(self, other)\n",
    "'''"
   ]
  },
  {
   "cell_type": "code",
   "execution_count": 3,
   "id": "1c757fce",
   "metadata": {},
   "outputs": [
    {
     "name": "stdout",
     "output_type": "stream",
     "text": [
      "Vector(6, 8)\n",
      "Vector(-2, -2)\n",
      "Vector(8, 15)\n",
      "Vector(2, 3)\n",
      "Vector(4, 5)\n",
      "False\n"
     ]
    }
   ],
   "source": [
    "class Vector:\n",
    "    def __init__(self, x,y):\n",
    "        self.x = x\n",
    "        self.y = y\n",
    "\n",
    "    def __add__(self, other):\n",
    "        return Vector(self.x+other.x, self.y+other.y)\n",
    "    \n",
    "    def __sub__(self, other):\n",
    "        return Vector(self.x-other.x, self.y-other.y)\n",
    "    \n",
    "    def __mul__(self, other):\n",
    "        return Vector(self.x*other.x, self.y*other.y)\n",
    "    \n",
    "    def __eq__(self, other):\n",
    "        return self.x==other.x and self.y == other.y\n",
    "    \n",
    "    def __repr__(self):\n",
    "        return f\"Vector({self.x}, {self.y})\"\n",
    "    \n",
    "\n",
    "v1 = Vector(2,3)\n",
    "v2 = Vector(4,5)\n",
    "print(v1+v2)\n",
    "print(v1-v2)\n",
    "print(v1*v2)\n",
    "print(v1)\n",
    "print(v2)\n",
    "print(v1 == v2)"
   ]
  }
 ],
 "metadata": {
  "kernelspec": {
   "display_name": "Python 3",
   "language": "python",
   "name": "python3"
  },
  "language_info": {
   "codemirror_mode": {
    "name": "ipython",
    "version": 3
   },
   "file_extension": ".py",
   "mimetype": "text/x-python",
   "name": "python",
   "nbconvert_exporter": "python",
   "pygments_lexer": "ipython3",
   "version": "3.13.4"
  }
 },
 "nbformat": 4,
 "nbformat_minor": 5
}
