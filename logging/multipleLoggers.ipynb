{
 "cells": [
  {
   "cell_type": "markdown",
   "id": "52e0449d",
   "metadata": {},
   "source": [
    "### You can create multiple loggers for different parts of your application"
   ]
  },
  {
   "cell_type": "code",
   "execution_count": 1,
   "id": "b466a6c6",
   "metadata": {},
   "outputs": [],
   "source": [
    "import logging\n",
    "\n",
    "## create logger for module 1\n",
    "logger1 = logging.getLogger(\"module1\")\n",
    "logger1.setLevel(logging.DEBUG)\n",
    "\n",
    "## logger for module 2\n",
    "logger2 = logging.getLogger(\"module2\")\n",
    "logger2.setLevel(logging.WARNING) \n",
    "\n",
    "logging.basicConfig(\n",
    "    level=logging.DEBUG,\n",
    "    format='%(asctime)s - %(name)s - %(levelname)s - %(message)s',\n",
    "    datefmt='%Y-%m-%d %H:%M:%S'\n",
    ")"
   ]
  },
  {
   "cell_type": "code",
   "execution_count": 2,
   "id": "47e30694",
   "metadata": {},
   "outputs": [
    {
     "name": "stderr",
     "output_type": "stream",
     "text": [
      "2025-07-13 13:01:20 - module1 - DEBUG - This is a debug message for moduele 1\n",
      "2025-07-13 13:01:20 - module2 - WARNING - This is a warning message for module 2\n",
      "2025-07-13 13:01:20 - module2 - ERROR - this is a error message\n"
     ]
    }
   ],
   "source": [
    "## log messages with different loggers\n",
    "\n",
    "logger1.debug(\"This is a debug message for moduele 1\")\n",
    "logger2.warning(\"This is a warning message for module 2\")\n",
    "logger2.error(\"this is a error message\")"
   ]
  }
 ],
 "metadata": {
  "kernelspec": {
   "display_name": "Python 3",
   "language": "python",
   "name": "python3"
  },
  "language_info": {
   "codemirror_mode": {
    "name": "ipython",
    "version": 3
   },
   "file_extension": ".py",
   "mimetype": "text/x-python",
   "name": "python",
   "nbconvert_exporter": "python",
   "pygments_lexer": "ipython3",
   "version": "3.13.4"
  }
 },
 "nbformat": 4,
 "nbformat_minor": 5
}
