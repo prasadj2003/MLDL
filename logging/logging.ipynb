{
 "cells": [
  {
   "cell_type": "markdown",
   "id": "538763e9",
   "metadata": {},
   "source": [
    "### Python's logging module is a built-in, robust, and flexible framework for recording events and messages within a Python application. It provides a structured approach to tracking program execution, debugging issues, and monitoring application behavior, offering a significant advantage over simple print() statements for these purposes."
   ]
  },
  {
   "cell_type": "code",
   "execution_count": 1,
   "id": "339bc905",
   "metadata": {},
   "outputs": [
    {
     "name": "stderr",
     "output_type": "stream",
     "text": [
      "DEBUG:root:This is a debug message\n",
      "INFO:root:this is a info message\n",
      "WARNING:root:this is a warning msg\n",
      "ERROR:root:this is an error msg\n",
      "CRITICAL:root:this is a critical msg\n"
     ]
    }
   ],
   "source": [
    "import logging\n",
    "\n",
    "## configure the basic logging settings\n",
    "logging.basicConfig(level=logging.DEBUG)\n",
    "\n",
    "## log messages with different severiety levels\n",
    "logging.debug(\"This is a debug message\")\n",
    "logging.info(\"this is a info message\")\n",
    "logging.warning(\"this is a warning msg\")\n",
    "logging.error(\"this is an error msg\")\n",
    "logging.critical(\"this is a critical msg\")"
   ]
  },
  {
   "cell_type": "markdown",
   "id": "01a91312",
   "metadata": {},
   "source": [
    "### Python logging levels\n",
    "- NOTSET=0\n",
    "- DEBUG=10\n",
    "- INFO=20\n",
    "- WARN=30\n",
    "- ERROR=40\n",
    "- CRITICAL=50"
   ]
  },
  {
   "cell_type": "code",
   "execution_count": 2,
   "id": "916cd475",
   "metadata": {},
   "outputs": [],
   "source": [
    "import logging\n",
    "\n",
    "## Configuring the logging\n",
    "logging.basicConfig(\n",
    "    filename='app.log',\n",
    "    filemode='w',\n",
    "    level=logging.DEBUG,\n",
    "    format='%(asctime)s-%(name)s-%(message)s',\n",
    "    datefmt='%Y-%m-%d %H:%M:%S'\n",
    ")"
   ]
  },
  {
   "cell_type": "code",
   "execution_count": 3,
   "id": "209840df",
   "metadata": {},
   "outputs": [],
   "source": [
    "logging.debug(\"This is a debug message\")\n",
    "logging.info(\"this is a info message\")\n",
    "logging.warning(\"this is a warning msg\")\n",
    "logging.error(\"this is an error msg\")\n",
    "logging.critical(\"this is a critical msg\")"
   ]
  },
  {
   "cell_type": "markdown",
   "id": "ab5bf0e8",
   "metadata": {},
   "source": [
    "## We need to restart the kernel incase we need to change the basic config"
   ]
  },
  {
   "cell_type": "markdown",
   "id": "9f9f377c",
   "metadata": {},
   "source": [
    "#### Refer logs folder to understand how logging can be defined in one file and used across whole project"
   ]
  }
 ],
 "metadata": {
  "kernelspec": {
   "display_name": "Python 3",
   "language": "python",
   "name": "python3"
  },
  "language_info": {
   "codemirror_mode": {
    "name": "ipython",
    "version": 3
   },
   "file_extension": ".py",
   "mimetype": "text/x-python",
   "name": "python",
   "nbconvert_exporter": "python",
   "pygments_lexer": "ipython3",
   "version": "3.13.4"
  }
 },
 "nbformat": 4,
 "nbformat_minor": 5
}
