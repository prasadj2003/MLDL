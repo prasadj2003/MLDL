{
 "cells": [
  {
   "cell_type": "markdown",
   "id": "dd8d1557",
   "metadata": {},
   "source": [
    "# Module: Exception Handling Assignments\n",
    "## Lesson: Exception Handling with try, except, and finally\n",
    "### Assignment 1: Handling Division by Zero\n",
    "\n",
    "Write a function that takes two integers as input and returns their division. Use try, except, and finally blocks to handle division by zero and print an appropriate message.\n",
    "\n",
    "### Assignment 2: File Reading with Exception Handling\n",
    "\n",
    "Write a function that reads the contents of a file named `data.txt`. Use try, except, and finally blocks to handle file not found errors and ensure the file is properly closed.\n",
    "\n",
    "### Assignment 3: Handling Multiple Exceptions\n",
    "\n",
    "Write a function that takes a list of integers and returns their sum. Use try, except, and finally blocks to handle TypeError if a non-integer value is encountered and print an appropriate message.\n",
    "\n",
    "### Assignment 4: Exception Handling in User Input\n",
    "\n",
    "Write a function that prompts the user to enter an integer. Use try, except, and finally blocks to handle ValueError if the user enters a non-integer value and print an appropriate message.\n",
    "\n",
    "### Assignment 5: Exception Handling in Dictionary Access\n",
    "\n",
    "Write a function that takes a dictionary and a key as input and returns the value associated with the key. Use try, except, and finally blocks to handle KeyError if the key is not found in the dictionary and print an appropriate message.\n",
    "\n",
    "### Assignment 6: Nested Exception Handling\n",
    "\n",
    "Write a function that performs nested exception handling. It should first attempt to convert a string to an integer, and then attempt to divide by that integer. Use nested try, except, and finally blocks to handle ValueError and ZeroDivisionError and print appropriate messages.\n",
    "\n",
    "### Assignment 7: Exception Handling in List Operations\n",
    "\n",
    "Write a function that takes a list and an index as input and returns the element at the given index. Use try, except, and finally blocks to handle IndexError if the index is out of range and print an appropriate message.\n",
    "\n",
    "### Assignment 8: Exception Handling in Network Operations\n",
    "\n",
    "Write a function that attempts to open a URL and read its contents. Use try, except, and finally blocks to handle network-related errors and print an appropriate message.\n",
    "\n",
    "### Assignment 9: Exception Handling in JSON Parsing\n",
    "\n",
    "Write a function that attempts to parse a JSON string. Use try, except, and finally blocks to handle JSONDecodeError if the string is not a valid JSON and print an appropriate message.\n",
    "\n",
    "### Assignment 10: Custom Exception Handling\n",
    "\n",
    "Define a custom exception named `NegativeNumberError`. Write a function that raises this exception if a negative number is encountered in a list. Use try, except, and finally blocks to handle the custom exception and print an appropriate message.\n",
    "\n",
    "### Assignment 11: Exception Handling in Function Calls\n",
    "\n",
    "Write a function that calls another function which may raise an exception. Use try, except, and finally blocks to handle the exception and print an appropriate message.\n",
    "\n",
    "### Assignment 12: Exception Handling in Class Methods\n",
    "\n",
    "Define a class with a method that performs a division operation. Use try, except, and finally blocks within the method to handle division by zero and print an appropriate message.\n",
    "\n",
    "### Assignment 13: Exception Handling in Data Conversion\n",
    "\n",
    "Write a function that takes a list of strings and converts them to integers. Use try, except, and finally blocks to handle ValueError if a string cannot be converted and print an appropriate message.\n",
    "\n",
    "### Assignment 14: Exception Handling in List Comprehensions\n",
    "\n",
    "Write a function that uses a list comprehension to convert a list of strings to integers. Use try, except, and finally blocks within the list comprehension to handle ValueError and print an appropriate message.\n",
    "\n",
    "### Assignment 15: Exception Handling in File Writing\n",
    "\n",
    "Write a function that attempts to write a list of strings to a file. Use try, except, and finally blocks to handle IOError and ensure the file is properly closed."
   ]
  },
  {
   "cell_type": "code",
   "execution_count": 7,
   "id": "bc86c354",
   "metadata": {},
   "outputs": [
    {
     "name": "stdout",
     "output_type": "stream",
     "text": [
      "URL read operation completed.\n",
      "<!DOCTYPE html>\n",
      "<html class=\"client-nojs vector-feature-language-in-header-enabled vector-feature-la\n"
     ]
    }
   ],
   "source": [
    "## Ass 8\n",
    "# import urllib.error\n",
    "# import urllib.request\n",
    "# from bs4 import BeautifulSoup\n",
    "# url = 'https://en.wikipedia.org/wiki/Hyperlink'\n",
    "\n",
    "# def read_url(url):\n",
    "#     try:\n",
    "#         with urllib.request.urlopen(url) as response:\n",
    "#             html = response.read().decode('utf-8')\n",
    "#             soup = BeautifulSoup(html, features=\"html.parser\")\n",
    "#             for script in soup([\"script\", \"style\"]):\n",
    "#                 script.extract()\n",
    "#             # text = soup.get_text()\n",
    "#             return soup\n",
    "#     except urllib.error.URLError as e:\n",
    "#         print(e)\n",
    "\n",
    "# content = read_url(url)\n",
    "# print(content)\n",
    "\n",
    "import requests\n",
    "\n",
    "def read_url_contents(url):\n",
    "    try:\n",
    "        # Attempt to open the URL and read its contents\n",
    "        response = requests.get(url)\n",
    "        response.raise_for_status()  # Raise an exception for HTTP errors\n",
    "        return response.text\n",
    "    \n",
    "    except requests.exceptions.HTTPError as http_err:\n",
    "        # Handle HTTP errors\n",
    "        print(f\"HTTP error occurred: {http_err}\")\n",
    "    \n",
    "    except requests.exceptions.ConnectionError as conn_err:\n",
    "        # Handle connection-related errors\n",
    "        print(f\"Error connecting to the URL: {conn_err}\")\n",
    "    \n",
    "    except requests.exceptions.Timeout as time_err:\n",
    "        # Handle timeouts\n",
    "        print(f\"Timeout error occurred: {time_err}\")\n",
    "    \n",
    "    except requests.exceptions.RequestException as err:\n",
    "        # Handle any other request-related errors\n",
    "        print(f\"An error occurred: {err}\")\n",
    "    \n",
    "    finally:\n",
    "        # This block will always execute, regardless of exceptions\n",
    "        print(\"URL read operation completed.\")\n",
    "\n",
    "# Example usage\n",
    "url = \"https://en.wikipedia.org/wiki/Hyperlink\"\n",
    "contents = read_url_contents(url)\n",
    "if contents:\n",
    "    print(contents[:100])  # Print the first 100 characters of the contents\n"
   ]
  },
  {
   "cell_type": "code",
   "execution_count": 2,
   "id": "6696a321",
   "metadata": {},
   "outputs": [
    {
     "name": "stdout",
     "output_type": "stream",
     "text": [
      "division by zero\n",
      "Execution complete\n"
     ]
    }
   ],
   "source": [
    "## Ass 6 Nested Exception handling\n",
    "\n",
    "val = input(\"Enter number is string\")\n",
    "try:\n",
    "    num_val = int(val)\n",
    "    try:\n",
    "        res = num_val/0\n",
    "    except ZeroDivisionError as ex:\n",
    "        print(ex)\n",
    "except Exception as ex:\n",
    "    print(ex)\n",
    "finally:\n",
    "    print(\"Execution complete\")"
   ]
  },
  {
   "cell_type": "code",
   "execution_count": 12,
   "id": "62ca9554",
   "metadata": {},
   "outputs": [
    {
     "name": "stdout",
     "output_type": "stream",
     "text": [
      "Expecting ',' delimiter: line 1 column 44 (char 43)\n",
      "execution complete\n"
     ]
    }
   ],
   "source": [
    "## Ass 9\n",
    "import json\n",
    "\n",
    "str =  '{\"name\":\"John\", \"age\":30, \"city\":\"New York\"'\n",
    "\n",
    "try:\n",
    "    parsed_string = json.loads(str)\n",
    "    print(parsed_string)\n",
    "except json.JSONDecodeError as ex:\n",
    "    print(ex)\n",
    "finally:\n",
    "    print(\"execution complete\")"
   ]
  },
  {
   "cell_type": "code",
   "execution_count": 14,
   "id": "e7cfb7fe",
   "metadata": {},
   "outputs": [
    {
     "name": "stdout",
     "output_type": "stream",
     "text": [
      "Negative number exists in list\n"
     ]
    }
   ],
   "source": [
    "## Ass 10 Custom exception\n",
    "\n",
    "class NegativeNumberException(Exception):\n",
    "    def __init__(self, message):\n",
    "        self.message = message\n",
    "\n",
    "num = [1,2,3,-5,6]\n",
    "def check_list(lst):\n",
    "    for i in lst:\n",
    "        if i < 0:\n",
    "            raise NegativeNumberException(\"Negative number exists in list\")\n",
    "        else:\n",
    "            pass\n",
    "\n",
    "try:\n",
    "    check_list(num)\n",
    "except NegativeNumberException as e:\n",
    "    print(e)\n"
   ]
  },
  {
   "cell_type": "code",
   "execution_count": 19,
   "id": "5c14175b",
   "metadata": {},
   "outputs": [
    {
     "name": "stdout",
     "output_type": "stream",
     "text": [
      "Division by 0 not allowed\n",
      "execution complete\n"
     ]
    }
   ],
   "source": [
    "## Ass 11\n",
    "\n",
    "def firstFunction(secondFunction):\n",
    "    secondFunction(0)\n",
    "\n",
    "def secondFunction(num):\n",
    "    try:\n",
    "        val = 55/0\n",
    "        print(val)\n",
    "    except ZeroDivisionError:\n",
    "        print(\"Division by 0 not allowed\")\n",
    "    except ValueError:\n",
    "        print(\"cannot divide an integer with a string\")\n",
    "    except Exception as ex:\n",
    "        print(ex)\n",
    "    finally:\n",
    "        print(\"execution complete\")\n",
    "\n",
    "firstFunction(secondFunction)"
   ]
  },
  {
   "cell_type": "code",
   "execution_count": 22,
   "id": "eea69448",
   "metadata": {},
   "outputs": [],
   "source": [
    "## Ass 15\n",
    "\n",
    "strings = [\"string1\", \"string2\", \"string3\", \"string4\"]\n",
    "\n",
    "with open('IOException.txt', 'w+') as file:\n",
    "    try:\n",
    "        for i in strings:\n",
    "            file.write(i + '\\n')\n",
    "    except IOError as ex:\n",
    "        print(ex)\n",
    "\n"
   ]
  }
 ],
 "metadata": {
  "kernelspec": {
   "display_name": "Python 3",
   "language": "python",
   "name": "python3"
  },
  "language_info": {
   "codemirror_mode": {
    "name": "ipython",
    "version": 3
   },
   "file_extension": ".py",
   "mimetype": "text/x-python",
   "name": "python",
   "nbconvert_exporter": "python",
   "pygments_lexer": "ipython3",
   "version": "3.13.4"
  }
 },
 "nbformat": 4,
 "nbformat_minor": 5
}
