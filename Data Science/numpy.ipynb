{
 "cells": [
  {
   "cell_type": "code",
   "execution_count": 2,
   "id": "0b389f59",
   "metadata": {},
   "outputs": [
    {
     "name": "stdout",
     "output_type": "stream",
     "text": [
      "[1 2 3 4 5]\n",
      "<class 'numpy.ndarray'>\n",
      "(5,)\n"
     ]
    }
   ],
   "source": [
    "import numpy as np\n",
    "\n",
    "## creating arrays\n",
    "## 1D Array\n",
    "\n",
    "arr1 = np.array([1,2,3,4,5])\n",
    "print(arr1)\n",
    "print(type(arr1))\n",
    "print(arr1.shape)"
   ]
  },
  {
   "cell_type": "code",
   "execution_count": 17,
   "id": "f2b2bc12",
   "metadata": {},
   "outputs": [
    {
     "name": "stdout",
     "output_type": "stream",
     "text": [
      "array with 5 rows and 1 column [[1]\n",
      " [2]\n",
      " [3]\n",
      " [4]\n",
      " [5]]\n",
      "array with 1 rows and 5 column [1 2 3 4 5]\n"
     ]
    }
   ],
   "source": [
    "arr2 = np.array([1,2,3,4,5])\n",
    "arr2.reshape((1,5))\n",
    "# arr2.reshape((1,4)) --> will give error as array of 5 columns cannot be reshaped to 4 columns\n",
    "arr3 = arr2.reshape((5,1))\n",
    "\n",
    "print(f\"array with 5 rows and 1 column {arr3}\")\n",
    "print(f\"array with 1 rows and 5 column {arr2}\")"
   ]
  },
  {
   "cell_type": "code",
   "execution_count": 18,
   "id": "8a40a633",
   "metadata": {},
   "outputs": [
    {
     "name": "stdout",
     "output_type": "stream",
     "text": [
      "[[1 2 3 4 5]\n",
      " [3 4 5 6 7]]\n",
      "(2, 5)\n"
     ]
    }
   ],
   "source": [
    "## 2D array\n",
    "\n",
    "arr4 = np.array([[1,2,3,4,5], [3,4,5,6,7]])\n",
    "print(arr4)\n",
    "print(arr4.shape)"
   ]
  },
  {
   "cell_type": "code",
   "execution_count": 20,
   "id": "647d8235",
   "metadata": {},
   "outputs": [
    {
     "data": {
      "text/plain": [
       "array([0, 2, 4, 6, 8])"
      ]
     },
     "execution_count": 20,
     "metadata": {},
     "output_type": "execute_result"
    }
   ],
   "source": [
    "np.arange(0,10,2) # np.arange(start_position_inclusive, end_position_excluding, step_size)"
   ]
  },
  {
   "cell_type": "code",
   "execution_count": 22,
   "id": "eae79ba7",
   "metadata": {},
   "outputs": [
    {
     "data": {
      "text/plain": [
       "array([[1., 1., 1., 1.],\n",
       "       [1., 1., 1., 1.],\n",
       "       [1., 1., 1., 1.]])"
      ]
     },
     "execution_count": 22,
     "metadata": {},
     "output_type": "execute_result"
    }
   ],
   "source": [
    "np.ones((3,4)) ## 2D array with 3 rows and 4 columns with all elements as 1"
   ]
  },
  {
   "cell_type": "code",
   "execution_count": 23,
   "id": "5ece41d7",
   "metadata": {},
   "outputs": [
    {
     "data": {
      "text/plain": [
       "array([[1., 0., 0.],\n",
       "       [0., 1., 0.],\n",
       "       [0., 0., 1.]])"
      ]
     },
     "execution_count": 23,
     "metadata": {},
     "output_type": "execute_result"
    }
   ],
   "source": [
    "## identity matrix\n",
    "\n",
    "np.eye(3)"
   ]
  },
  {
   "cell_type": "code",
   "execution_count": 24,
   "id": "524c0141",
   "metadata": {},
   "outputs": [
    {
     "name": "stdout",
     "output_type": "stream",
     "text": [
      "addition:  [11 22 33 44 55]\n",
      "substraction:  [ -9 -18 -27 -36 -45]\n",
      "mult:  [ 10  40  90 160 250]\n",
      "div:  [10. 10. 10. 10. 10.]\n"
     ]
    }
   ],
   "source": [
    "## Numpy vectorized operations\n",
    "\n",
    "arr1 = np.array([1,2,3,4,5])\n",
    "arr2 = np.array([10,20,30,40,50])\n",
    "\n",
    "## element wise addition\n",
    "print(\"addition: \" , arr1 + arr2)\n",
    "\n",
    "## element wise substraction\n",
    "print(\"substraction: \", arr1 - arr2)\n",
    "\n",
    "## element wise mult\n",
    "print(\"mult: \", arr1 * arr2)\n",
    "\n",
    "## element wise div\n",
    "print(\"div: \", arr2/arr1)\n"
   ]
  },
  {
   "cell_type": "code",
   "execution_count": 27,
   "id": "835fcc4a",
   "metadata": {},
   "outputs": [
    {
     "name": "stdout",
     "output_type": "stream",
     "text": [
      "[1.41421356 1.73205081 2.         2.23606798 2.44948974]\n",
      "[  7.3890561   20.08553692  54.59815003 148.4131591  403.42879349]\n",
      "[ 0.90929743  0.14112001 -0.7568025  -0.95892427 -0.2794155 ]\n",
      "[0.69314718 1.09861229 1.38629436 1.60943791 1.79175947]\n"
     ]
    }
   ],
   "source": [
    "## Universal functions\n",
    "\n",
    "arr = np.array([2,3,4,5,6])\n",
    "\n",
    "print(np.sqrt(arr))\n",
    "\n",
    "# exponential\n",
    "print(np.exp(arr))\n",
    "\n",
    "#sine\n",
    "print(np.sin(arr))\n",
    "\n",
    "# log\n",
    "print(np.log(arr))"
   ]
  },
  {
   "cell_type": "code",
   "execution_count": 31,
   "id": "97e69165",
   "metadata": {},
   "outputs": [
    {
     "name": "stdout",
     "output_type": "stream",
     "text": [
      "array: \n",
      " [[  1   2   3   4]\n",
      " [  5   6   7   8]\n",
      " [ 12 243  45  67]]\n",
      "first element:  1\n",
      "last element:  67\n"
     ]
    }
   ],
   "source": [
    "## Array slicing and indexing\n",
    "\n",
    "arr = np.array([[1,2,3,4], [5,6,7,8], [12,243,45,67]])\n",
    "print(\"array: \\n\", arr)\n",
    "print(\"first element: \", arr[0][0])\n",
    "print(\"last element: \", arr[2][3])"
   ]
  },
  {
   "cell_type": "code",
   "execution_count": 32,
   "id": "75fcde7b",
   "metadata": {},
   "outputs": [
    {
     "data": {
      "text/plain": [
       "array([[  5,   6,   7,   8],\n",
       "       [ 12, 243,  45,  67]])"
      ]
     },
     "execution_count": 32,
     "metadata": {},
     "output_type": "execute_result"
    }
   ],
   "source": [
    "arr[1:]"
   ]
  },
  {
   "cell_type": "code",
   "execution_count": 35,
   "id": "07cc623f",
   "metadata": {},
   "outputs": [
    {
     "data": {
      "text/plain": [
       "array([[ 7,  8],\n",
       "       [45, 67]])"
      ]
     },
     "execution_count": 35,
     "metadata": {},
     "output_type": "execute_result"
    }
   ],
   "source": [
    "arr[1:, 2:]"
   ]
  },
  {
   "cell_type": "code",
   "execution_count": 42,
   "id": "800625a0",
   "metadata": {},
   "outputs": [
    {
     "data": {
      "text/plain": [
       "array([[  2,   3,   4],\n",
       "       [  6,   7,   8],\n",
       "       [243,  45,  67]])"
      ]
     },
     "execution_count": 42,
     "metadata": {},
     "output_type": "execute_result"
    }
   ],
   "source": [
    "arr[0:, 1:]"
   ]
  },
  {
   "cell_type": "code",
   "execution_count": 43,
   "id": "038cddca",
   "metadata": {},
   "outputs": [
    {
     "name": "stdout",
     "output_type": "stream",
     "text": [
      "[[  1   2   3   4]\n",
      " [100 100 100 100]\n",
      " [100 100 100 100]]\n"
     ]
    }
   ],
   "source": [
    "arr[1:] = 100\n",
    "print(arr)"
   ]
  },
  {
   "cell_type": "code",
   "execution_count": 45,
   "id": "ac94bd7d",
   "metadata": {},
   "outputs": [
    {
     "name": "stdout",
     "output_type": "stream",
     "text": [
      "mean is:  67.5\n",
      "standard deviation:  16.557777628655362\n",
      "variance is:  274.15999999999997\n",
      "normalized data:  [-4.01623947 -3.95584489 -1.35887802 -3.71426657 -3.653872  ]\n"
     ]
    }
   ],
   "source": [
    "## Statistical concept -- Normalization\n",
    "\n",
    "data = np.array([1,2,45,6,7])\n",
    "\n",
    "mean = np.mean(arr)\n",
    "std_dev = np.std(data)\n",
    "variance = np.var(data)\n",
    "\n",
    "print(\"mean is: \", mean)\n",
    "print(\"standard deviation: \", std_dev)\n",
    "print(\"variance is: \", variance)\n",
    "\n",
    "normalized_data = (data-mean)/std_dev\n",
    "print(\"normalized data: \", normalized_data)"
   ]
  },
  {
   "cell_type": "code",
   "execution_count": 55,
   "id": "ec3e1a36",
   "metadata": {},
   "outputs": [
    {
     "name": "stdout",
     "output_type": "stream",
     "text": [
      "[6 7]\n",
      "[ 1  2  3  4  5  6  7 87]\n"
     ]
    }
   ],
   "source": [
    "## Logical operation\n",
    "\n",
    "data = np.array([1,2,3,4,5,6,7,87])\n",
    "\n",
    "print(data[(data>5) & (data<8)])\n",
    "print(data[(data>5) | (data<8)])"
   ]
  }
 ],
 "metadata": {
  "kernelspec": {
   "display_name": "Python 3",
   "language": "python",
   "name": "python3"
  },
  "language_info": {
   "codemirror_mode": {
    "name": "ipython",
    "version": 3
   },
   "file_extension": ".py",
   "mimetype": "text/x-python",
   "name": "python",
   "nbconvert_exporter": "python",
   "pygments_lexer": "ipython3",
   "version": "3.13.4"
  }
 },
 "nbformat": 4,
 "nbformat_minor": 5
}
