{
 "cells": [
  {
   "cell_type": "markdown",
   "id": "a95bb3c1",
   "metadata": {},
   "source": [
    "# Module: NumPy Assignments\n",
    "## Lesson: NumPy\n",
    "### Assignment 1: Array Creation and Manipulation\n",
    "\n",
    "1. Create a NumPy array of shape (5, 5) filled with random integers between 1 and 20. Replace all the elements in the third column with 1.\n",
    "2. Create a NumPy array of shape (4, 4) with values from 1 to 16. Replace the diagonal elements with 0.\n",
    "\n",
    "### Assignment 2: Array Indexing and Slicing\n",
    "\n",
    "1. Create a NumPy array of shape (6, 6) with values from 1 to 36. Extract the sub-array consisting of the 3rd to 5th rows and 2nd to 4th columns.\n",
    "2. Create a NumPy array of shape (5, 5) with random integers. Extract the elements on the border.\n",
    "\n",
    "### Assignment 3: Array Operations\n",
    "\n",
    "1. Create two NumPy arrays of shape (3, 4) filled with random integers. Perform element-wise addition, subtraction, multiplication, and division.\n",
    "2. Create a NumPy array of shape (4, 4) with values from 1 to 16. Compute the row-wise and column-wise sum.\n",
    "\n",
    "### Assignment 4: Statistical Operations\n",
    "\n",
    "1. Create a NumPy array of shape (5, 5) filled with random integers. Compute the mean, median, standard deviation, and variance of the array.\n",
    "2. Create a NumPy array of shape (3, 3) with values from 1 to 9. Normalize the array (i.e., scale the values to have a mean of 0 and a standard deviation of 1).\n",
    "\n",
    "### Assignment 5: Broadcasting\n",
    "\n",
    "1. Create a NumPy array of shape (3, 3) filled with random integers. Add a 1D array of shape (3,) to each row of the 2D array using broadcasting.\n",
    "2. Create a NumPy array of shape (4, 4) filled with random integers. Subtract a 1D array of shape (4,) from each column of the 2D array using broadcasting.\n",
    "\n",
    "### Assignment 6: Linear Algebra\n",
    "\n",
    "1. Create a NumPy array of shape (3, 3) representing a matrix. Compute its determinant, inverse, and eigenvalues.\n",
    "2. Create two NumPy arrays of shape (2, 3) and (3, 2). Perform matrix multiplication on these arrays.\n",
    "\n",
    "### Assignment 7: Advanced Array Manipulation\n",
    "\n",
    "1. Create a NumPy array of shape (3, 3) with values from 1 to 9. Reshape the array to shape (1, 9) and then to shape (9, 1).\n",
    "2. Create a NumPy array of shape (5, 5) filled with random integers. Flatten the array and then reshape it back to (5, 5).\n",
    "\n",
    "### Assignment 8: Fancy Indexing and Boolean Indexing\n",
    "\n",
    "1. Create a NumPy array of shape (5, 5) filled with random integers. Use fancy indexing to extract the elements at the corners of the array.\n",
    "2. Create a NumPy array of shape (4, 4) filled with random integers. Use boolean indexing to set all elements greater than 10 to 10.\n",
    "\n",
    "### Assignment 9: Structured Arrays\n",
    "\n",
    "1. Create a structured array with fields 'name' (string), 'age' (integer), and 'weight' (float). Add some data and sort the array by age.\n",
    "2. Create a structured array with fields 'x' and 'y' (both integers). Add some data and compute the Euclidean distance between each pair of points.\n",
    "\n",
    "### Assignment 10: Masked Arrays\n",
    "\n",
    "1. Create a masked array of shape (4, 4) with random integers and mask the elements greater than 10. Compute the sum of the unmasked elements.\n",
    "2. Create a masked array of shape (3, 3) with random integers and mask the diagonal elements. Replace the masked elements with the mean of the unmasked elements."
   ]
  },
  {
   "cell_type": "code",
   "execution_count": 6,
   "id": "c744ba3a",
   "metadata": {},
   "outputs": [
    {
     "name": "stdout",
     "output_type": "stream",
     "text": [
      "random array of 5X5: \n",
      " [[11 14  8 11 11]\n",
      " [ 2 12 20  1 15]\n",
      " [ 5  5 19  1  3]\n",
      " [ 5  4 12  6 19]\n",
      " [ 5 18 17  9  7]]\n",
      "manipulated array: \n",
      " [[11 14  1 11 11]\n",
      " [ 2 12  1  1 15]\n",
      " [ 5  5  1  1  3]\n",
      " [ 5  4  1  6 19]\n",
      " [ 5 18  1  9  7]]\n"
     ]
    }
   ],
   "source": [
    "## Ass1-1\n",
    "import numpy as np\n",
    "\n",
    "arr = np.random.randint(1,21, size=(5,5))\n",
    "print(\"random array of 5X5: \\n\", arr)\n",
    "\n",
    "## manipulation\n",
    "arr[:, 2] = 1\n",
    "print(\"manipulated array: \\n\", arr)"
   ]
  },
  {
   "cell_type": "code",
   "execution_count": 9,
   "id": "de0b0762",
   "metadata": {},
   "outputs": [
    {
     "name": "stdout",
     "output_type": "stream",
     "text": [
      "random array of 5X5: \n",
      " [[ 1  1  1  8]\n",
      " [ 2  9  6  4]\n",
      " [10  9 15 16]\n",
      " [ 4 16 16  2]]\n",
      "manipulated array: \n",
      " [[ 0  1  1  8]\n",
      " [ 2  0  6  4]\n",
      " [10  9  0 16]\n",
      " [ 4 16 16  0]]\n"
     ]
    }
   ],
   "source": [
    "## Ass1-2\n",
    "\n",
    "arr = np.random.randint(1, 17, size=(4,4))\n",
    "print(\"random array of 5X5: \\n\", arr)\n",
    "\n",
    "np.fill_diagonal(arr, 0)\n",
    "print(\"manipulated array: \\n\", arr)"
   ]
  },
  {
   "cell_type": "code",
   "execution_count": 12,
   "id": "05085ec7",
   "metadata": {},
   "outputs": [
    {
     "name": "stdout",
     "output_type": "stream",
     "text": [
      "random array of 5X5: \n",
      " [[ 2 21 24 21 32 25]\n",
      " [23 12 11  1  6 14]\n",
      " [ 3  6  9  4 21 20]\n",
      " [ 5 26 14 25 20 20]\n",
      " [ 6 12 30 31 25 20]\n",
      " [22 36  4 16 29  2]]\n",
      "extracted array: \n",
      " [[ 6  9  4]\n",
      " [26 14 25]\n",
      " [12 30 31]]\n"
     ]
    }
   ],
   "source": [
    "## Ass2-1 Array extraction\n",
    "\n",
    "arr = np.random.randint(1, 37, size=(6,6))\n",
    "print(\"random array of 5X5: \\n\", arr)\n",
    "\n",
    "extracted_array = arr[2:5, 1:4]\n",
    "print(\"extracted array: \\n\", extracted_array)\n"
   ]
  },
  {
   "cell_type": "code",
   "execution_count": 16,
   "id": "3cc8ae4b",
   "metadata": {},
   "outputs": [
    {
     "name": "stdout",
     "output_type": "stream",
     "text": [
      "Original array:\n",
      "[[13 16  1  4  4]\n",
      " [ 8 10 20 19  5]\n",
      " [ 7 13  2  7  8]\n",
      " [15 18  6 14  9]\n",
      " [10 20 17 20  6]]\n",
      "\n",
      "Border elements:\n",
      "[13 16  1  4  4  5  8  9  6 20 17 20 10 15  7  8]\n"
     ]
    }
   ],
   "source": [
    "\n",
    "# Create a 5x5 array with random integers\n",
    "np.random.seed(0)  # For reproducibility\n",
    "arr = np.random.randint(1, 21, size=(5, 5))\n",
    "\n",
    "print(\"Original array:\")\n",
    "print(arr)\n",
    "\n",
    "# Extract the elements on the border\n",
    "top_row = arr[0, :]\n",
    "bottom_row = arr[-1, :]\n",
    "left_col = arr[1:-1, 0]\n",
    "right_col = arr[1:-1, -1]\n",
    "\n",
    "border_elements = np.concatenate((top_row, right_col, bottom_row[::-1], left_col[::-1]))\n",
    "\n",
    "print(\"\\nBorder elements:\")\n",
    "print(border_elements)"
   ]
  },
  {
   "cell_type": "code",
   "execution_count": 19,
   "id": "ba1cee7f",
   "metadata": {},
   "outputs": [
    {
     "name": "stdout",
     "output_type": "stream",
     "text": [
      "Original array: \n",
      " [[26  1 11 21]\n",
      " [24  4 12 19]\n",
      " [24 29  3  1]\n",
      " [ 1  5 22  6]]\n",
      "row sum:  [59 59 57 34]\n",
      "column sum:  [75 39 48 47]\n"
     ]
    }
   ],
   "source": [
    "## Ass3-1\n",
    "\n",
    "arr = np.random.randint(1, 31, size=(4,4))\n",
    "print(\"Original array: \\n\", arr)\n",
    "\n",
    "row_sum = np.sum(arr, axis=1)\n",
    "print(\"row sum: \", row_sum)\n",
    "col_sum = np.sum(arr, axis=0)\n",
    "print(\"column sum: \", col_sum)"
   ]
  }
 ],
 "metadata": {
  "kernelspec": {
   "display_name": "Python 3",
   "language": "python",
   "name": "python3"
  },
  "language_info": {
   "codemirror_mode": {
    "name": "ipython",
    "version": 3
   },
   "file_extension": ".py",
   "mimetype": "text/x-python",
   "name": "python",
   "nbconvert_exporter": "python",
   "pygments_lexer": "ipython3",
   "version": "3.13.4"
  }
 },
 "nbformat": 4,
 "nbformat_minor": 5
}
