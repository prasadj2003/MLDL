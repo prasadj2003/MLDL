{
 "cells": [
  {
   "cell_type": "markdown",
   "id": "a95bb3c1",
   "metadata": {},
   "source": [
    "# Module: NumPy Assignments\n",
    "## Lesson: NumPy\n",
    "### Assignment 1: Array Creation and Manipulation\n",
    "\n",
    "1. Create a NumPy array of shape (5, 5) filled with random integers between 1 and 20. Replace all the elements in the third column with 1.\n",
    "2. Create a NumPy array of shape (4, 4) with values from 1 to 16. Replace the diagonal elements with 0.\n",
    "\n",
    "### Assignment 2: Array Indexing and Slicing\n",
    "\n",
    "1. Create a NumPy array of shape (6, 6) with values from 1 to 36. Extract the sub-array consisting of the 3rd to 5th rows and 2nd to 4th columns.\n",
    "2. Create a NumPy array of shape (5, 5) with random integers. Extract the elements on the border.\n",
    "\n",
    "### Assignment 3: Array Operations\n",
    "\n",
    "1. Create two NumPy arrays of shape (3, 4) filled with random integers. Perform element-wise addition, subtraction, multiplication, and division.\n",
    "2. Create a NumPy array of shape (4, 4) with values from 1 to 16. Compute the row-wise and column-wise sum.\n",
    "\n",
    "### Assignment 4: Statistical Operations\n",
    "\n",
    "1. Create a NumPy array of shape (5, 5) filled with random integers. Compute the mean, median, standard deviation, and variance of the array.\n",
    "2.  \n",
    "\n",
    "### Assignment 5: Broadcasting\n",
    "\n",
    "1. Create a NumPy array of shape (3, 3) filled with random integers. Add a 1D array of shape (3,) to each row of the 2D array using broadcasting.\n",
    "2. Create a NumPy array of shape (4, 4) filled with random integers. Subtract a 1D array of shape (4,) from each column of the 2D array using broadcasting.\n",
    "\n",
    "### Assignment 6: Linear Algebra\n",
    "\n",
    "1. Create a NumPy array of shape (3, 3) representing a matrix. Compute its determinant, inverse, and eigenvalues.\n",
    "2. Create two NumPy arrays of shape (2, 3) and (3, 2). Perform matrix multiplication on these arrays.\n",
    "\n",
    "### Assignment 7: Advanced Array Manipulation\n",
    "\n",
    "1. Create a NumPy array of shape (3, 3) with values from 1 to 9. Reshape the array to shape (1, 9) and then to shape (9, 1).\n",
    "2. Create a NumPy array of shape (5, 5) filled with random integers. Flatten the array and then reshape it back to (5, 5).\n",
    "\n",
    "### Assignment 8: Fancy Indexing and Boolean Indexing\n",
    "\n",
    "1. Create a NumPy array of shape (5, 5) filled with random integers. Use fancy indexing to extract the elements at the corners of the array.\n",
    "2. Create a NumPy array of shape (4, 4) filled with random integers. Use boolean indexing to set all elements greater than 10 to 10.\n",
    "\n",
    "### Assignment 9: Structured Arrays\n",
    "\n",
    "1. Create a structured array with fields 'name' (string), 'age' (integer), and 'weight' (float). Add some data and sort the array by age.\n",
    "2. Create a structured array with fields 'x' and 'y' (both integers). Add some data and compute the Euclidean distance between each pair of points.\n",
    "\n",
    "### Assignment 10: Masked Arrays\n",
    "\n",
    "1. Create a masked array of shape (4, 4) with random integers and mask the elements greater than 10. Compute the sum of the unmasked elements.\n",
    "2. Create a masked array of shape (3, 3) with random integers and mask the diagonal elements. Replace the masked elements with the mean of the unmasked elements."
   ]
  },
  {
   "cell_type": "code",
   "execution_count": 2,
   "id": "c744ba3a",
   "metadata": {},
   "outputs": [
    {
     "name": "stdout",
     "output_type": "stream",
     "text": [
      "random array of 5X5: \n",
      " [[18  6 12  8 13]\n",
      " [10 10  8 10  6]\n",
      " [15  8  4  5 12]\n",
      " [ 2 13  9 19 10]\n",
      " [ 7  2  1  4  6]]\n",
      "manipulated array: \n",
      " [[18  6  1  8 13]\n",
      " [10 10  1 10  6]\n",
      " [15  8  1  5 12]\n",
      " [ 2 13  1 19 10]\n",
      " [ 7  2  1  4  6]]\n"
     ]
    }
   ],
   "source": [
    "## Ass1-1\n",
    "import numpy as np\n",
    "\n",
    "arr = np.random.randint(1,21, size=(5,5))\n",
    "print(\"random array of 5X5: \\n\", arr)\n",
    "\n",
    "## manipulation\n",
    "arr[:, 2] = 1\n",
    "print(\"manipulated array: \\n\", arr)"
   ]
  },
  {
   "cell_type": "code",
   "execution_count": 4,
   "id": "de0b0762",
   "metadata": {},
   "outputs": [
    {
     "name": "stdout",
     "output_type": "stream",
     "text": [
      "random array of 5X5: \n",
      " [[ 3 15 10 13]\n",
      " [14  2 13  1]\n",
      " [ 4  2 13  6]\n",
      " [ 7  6  7 16]]\n",
      "manipulated array: \n",
      " [[ 0 15 10 13]\n",
      " [14  0 13  1]\n",
      " [ 4  2  0  6]\n",
      " [ 7  6  7  0]]\n"
     ]
    }
   ],
   "source": [
    "## Ass1-2\n",
    "\n",
    "arr = np.random.randint(1, 17, size=(4,4))\n",
    "print(\"random array of 5X5: \\n\", arr)\n",
    "\n",
    "np.fill_diagonal(arr, 0)\n",
    "print(\"manipulated array: \\n\", arr)"
   ]
  },
  {
   "cell_type": "code",
   "execution_count": 5,
   "id": "05085ec7",
   "metadata": {},
   "outputs": [
    {
     "name": "stdout",
     "output_type": "stream",
     "text": [
      "random array of 5X5: \n",
      " [[16 28 33  5  6 17]\n",
      " [22 28  5  6 28 31]\n",
      " [ 3 14 17  5 28 27]\n",
      " [30 34 23 26 34 25]\n",
      " [20  8 12 18 31 36]\n",
      " [17 10 21 35 26 25]]\n",
      "extracted array: \n",
      " [[14 17  5]\n",
      " [34 23 26]\n",
      " [ 8 12 18]]\n"
     ]
    }
   ],
   "source": [
    "## Ass2-1 Array extraction\n",
    "\n",
    "arr = np.random.randint(1, 37, size=(6,6))\n",
    "print(\"random array of 5X5: \\n\", arr)\n",
    "\n",
    "extracted_array = arr[2:5, 1:4]\n",
    "print(\"extracted array: \\n\", extracted_array)\n"
   ]
  },
  {
   "cell_type": "code",
   "execution_count": 6,
   "id": "3cc8ae4b",
   "metadata": {},
   "outputs": [
    {
     "name": "stdout",
     "output_type": "stream",
     "text": [
      "Original array:\n",
      "[[13 16  1  4  4]\n",
      " [ 8 10 20 19  5]\n",
      " [ 7 13  2  7  8]\n",
      " [15 18  6 14  9]\n",
      " [10 20 17 20  6]]\n",
      "\n",
      "Border elements:\n",
      "[13 16  1  4  4  5  8  9  6 20 17 20 10 15  7  8]\n"
     ]
    }
   ],
   "source": [
    "\n",
    "# Create a 5x5 array with random integers\n",
    "np.random.seed(0)  # For reproducibility\n",
    "arr = np.random.randint(1, 21, size=(5, 5))\n",
    "\n",
    "print(\"Original array:\")\n",
    "print(arr)\n",
    "\n",
    "# Extract the elements on the border\n",
    "top_row = arr[0, :]\n",
    "bottom_row = arr[-1, :]\n",
    "left_col = arr[1:-1, 0]\n",
    "right_col = arr[1:-1, -1]\n",
    "\n",
    "border_elements = np.concatenate((top_row, right_col, bottom_row[::-1], left_col[::-1]))\n",
    "\n",
    "print(\"\\nBorder elements:\")\n",
    "print(border_elements)"
   ]
  },
  {
   "cell_type": "code",
   "execution_count": 7,
   "id": "ba1cee7f",
   "metadata": {},
   "outputs": [
    {
     "name": "stdout",
     "output_type": "stream",
     "text": [
      "Original array: \n",
      " [[16 16  1 19]\n",
      " [ 4 25 18 20]\n",
      " [30 20 20 15]\n",
      " [ 8  1  2 10]]\n",
      "row sum:  [52 67 85 21]\n",
      "column sum:  [58 62 41 64]\n"
     ]
    }
   ],
   "source": [
    "## Ass3-1\n",
    "\n",
    "arr = np.random.randint(1, 31, size=(4,4))\n",
    "print(\"Original array: \\n\", arr)\n",
    "\n",
    "row_sum = np.sum(arr, axis=1)\n",
    "print(\"row sum: \", row_sum)\n",
    "col_sum = np.sum(arr, axis=0)\n",
    "print(\"column sum: \", col_sum)"
   ]
  },
  {
   "cell_type": "code",
   "execution_count": 8,
   "id": "a4ff10bf",
   "metadata": {},
   "outputs": [
    {
     "name": "stdout",
     "output_type": "stream",
     "text": [
      "Original array: \n",
      " [[58 33 32 75 24]\n",
      " [36 76 56 29 35]\n",
      " [ 1  1 37 54  6]\n",
      " [39 18 80  5 43]\n",
      " [59 32  2 66 42]]\n",
      "flattened array:  [58 33 32 75 24 36 76 56 29 35  1  1 37 54  6 39 18 80  5 43 59 32  2 66\n",
      " 42]\n",
      "mean:  37.56\n",
      "median:  36.0\n",
      "mode:  ModeResult(mode=np.int32(1), count=np.int64(2))\n",
      "standard deviation:  23.455626190745793\n",
      "variance:  550.1664\n"
     ]
    }
   ],
   "source": [
    "## Ass4-1\n",
    "from scipy import stats\n",
    "\n",
    "arr = np.random.randint(1,100, size=(5,5))\n",
    "print(\"Original array: \\n\", arr)\n",
    "\n",
    "new_arr = arr.flatten()\n",
    "print(\"flattened array: \", new_arr)\n",
    "\n",
    "print(\"mean: \", np.mean(new_arr))\n",
    "print(\"median: \", np.median(new_arr))\n",
    "print(\"mode: \", stats.mode(new_arr))\n",
    "print(\"standard deviation: \", np.std(new_arr))\n",
    "print(\"variance: \", np.var(new_arr))"
   ]
  },
  {
   "cell_type": "code",
   "execution_count": 16,
   "id": "2208d637",
   "metadata": {},
   "outputs": [
    {
     "name": "stdout",
     "output_type": "stream",
     "text": [
      "Original array:\n",
      "[[1 2 3]\n",
      " [4 5 6]\n",
      " [7 8 9]]\n",
      "\n",
      "Normalized array:\n",
      "[[-1.54919334 -1.161895   -0.77459667]\n",
      " [-0.38729833  0.          0.38729833]\n",
      " [ 0.77459667  1.161895    1.54919334]]\n",
      "\n",
      "Mean of normalized array: 0.0\n",
      "Standard deviation of normalized array: 1.0\n"
     ]
    }
   ],
   "source": [
    "## Ass4-2\n",
    "\n",
    "# Create a NumPy array of shape (3, 3) with values from 1 to 9\n",
    "array = np.arange(1, 10).reshape(3, 3)\n",
    "print(\"Original array:\")\n",
    "print(array)\n",
    "\n",
    "# Normalize the array\n",
    "mean = array.mean()\n",
    "std_dev = array.std()\n",
    "normalized_array = (array - mean) / std_dev\n",
    "print(\"\\nNormalized array:\")\n",
    "print(normalized_array)\n",
    "\n",
    "# Verify the normalization\n",
    "print(\"\\nMean of normalized array:\", normalized_array.mean())\n",
    "print(\"Standard deviation of normalized array:\", normalized_array.std())"
   ]
  },
  {
   "cell_type": "code",
   "execution_count": 19,
   "id": "002eeb58",
   "metadata": {},
   "outputs": [
    {
     "name": "stdout",
     "output_type": "stream",
     "text": [
      "Original array: \n",
      " [[7 4 4]\n",
      " [9 9 9]\n",
      " [3 4 3]]\n",
      "second array: \n",
      " [1 9 9]\n",
      "final array: \n",
      " [[ 8 13 13]\n",
      " [10 18 18]\n",
      " [ 4 13 12]]\n"
     ]
    }
   ],
   "source": [
    "## Ass5-1\n",
    "\n",
    "arr = np.random.randint(1,11, size=(3,3))\n",
    "arr2 = np.random.randint(1,11, size=(3,))\n",
    "\n",
    "print(\"Original array: \\n\", arr)\n",
    "print(\"second array: \\n\", arr2)\n",
    "\n",
    "final_arr = arr + arr2\n",
    "print(\"final array: \\n\", final_arr)"
   ]
  },
  {
   "cell_type": "code",
   "execution_count": 6,
   "id": "a908a86c",
   "metadata": {},
   "outputs": [
    {
     "name": "stdout",
     "output_type": "stream",
     "text": [
      "Original array: \n",
      " [[10  5  4 10]\n",
      " [ 2 10  5  3]\n",
      " [ 1  8 10  6]\n",
      " [ 4  7  5  2]]\n",
      "second array: \n",
      " [ 7 10  3  4]\n",
      "final array: \n",
      " [[ 3 -2 -3  3]\n",
      " [-8  0 -5 -7]\n",
      " [-2  5  7  3]\n",
      " [ 0  3  1 -2]]\n"
     ]
    }
   ],
   "source": [
    "## As5-2\n",
    "arr = np.random.randint(1,11, size=(4,4))\n",
    "arr2 = np.random.randint(1,11, size=(4,))\n",
    "\n",
    "print(\"Original array: \\n\", arr)\n",
    "print(\"second array: \\n\", arr2)\n",
    "\n",
    "# We need to add a new axis to arr_1d to enable broadcasting\n",
    "\n",
    "final_arr = arr-arr2[:, np.newaxis]\n",
    "print(\"final array: \\n\", final_arr)"
   ]
  },
  {
   "cell_type": "code",
   "execution_count": 10,
   "id": "b47a2f0f",
   "metadata": {},
   "outputs": [
    {
     "name": "stdout",
     "output_type": "stream",
     "text": [
      "Original array: \n",
      " [[ 3  6 10]\n",
      " [10  7  3]\n",
      " [ 5  1 10]]\n",
      "determinant:  -559.0\n",
      "Inverse of array:  [[-0.11985689  0.08944544  0.09302326]\n",
      " [ 0.15205725  0.03577818 -0.1627907 ]\n",
      " [ 0.04472272 -0.04830054  0.06976744]]\n",
      "[-4.60650763 17.78230385  6.82420377]\n"
     ]
    }
   ],
   "source": [
    "## Ass6-1\n",
    "\n",
    "arr = np.random.randint(1,11, size=(3,3))\n",
    "print(\"Original array: \\n\", arr)\n",
    "\n",
    "determinant = np.linalg.det(arr)\n",
    "print(\"determinant: \", determinant)\n",
    "\n",
    "inverse = np.linalg.inv(arr)\n",
    "print(\"Inverse of array: \", inverse)\n",
    "\n",
    "eigen_val =  np.linalg.eig(arr)\n",
    "# print(\"eigen value: \", eigen_val)    -> returns an object of eigen values and eigen vectors \n",
    "print(eigen_val.eigenvalues)       "
   ]
  },
  {
   "cell_type": "code",
   "execution_count": 11,
   "id": "684419ee",
   "metadata": {},
   "outputs": [
    {
     "name": "stdout",
     "output_type": "stream",
     "text": [
      "[[ 87  77 120]\n",
      " [ 73  60  82]\n",
      " [ 76  64  54]]\n"
     ]
    }
   ],
   "source": [
    "## Ass6-2\n",
    "\n",
    "arr1 = np.random.randint(1,11, size=(3,4))\n",
    "arr2 = np.random.randint(1,11, size=(4,3))\n",
    "\n",
    "final_arr = np.linalg.matmul(arr1, arr2)\n",
    "print(final_arr)"
   ]
  }
 ],
 "metadata": {
  "kernelspec": {
   "display_name": "Python 3",
   "language": "python",
   "name": "python3"
  },
  "language_info": {
   "codemirror_mode": {
    "name": "ipython",
    "version": 3
   },
   "file_extension": ".py",
   "mimetype": "text/x-python",
   "name": "python",
   "nbconvert_exporter": "python",
   "pygments_lexer": "ipython3",
   "version": "3.13.4"
  }
 },
 "nbformat": 4,
 "nbformat_minor": 5
}
