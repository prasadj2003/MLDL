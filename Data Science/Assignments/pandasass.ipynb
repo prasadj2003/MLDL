{
 "cells": [
  {
   "cell_type": "markdown",
   "id": "d43d1d2d",
   "metadata": {},
   "source": [
    "# Module: Pandas Assignments\n",
    "## Lesson: Pandas\n",
    "### Assignment 1: DataFrame Creation and Indexing\n",
    "\n",
    "1. Create a Pandas DataFrame with 4 columns and 6 rows filled with random integers. Set the index to be the first column.\n",
    "2. Create a Pandas DataFrame with columns 'A', 'B', 'C' and index 'X', 'Y', 'Z'. Fill the DataFrame with random integers and access the element at row 'Y' and column 'B'.\n",
    "\n",
    "### Assignment 2: DataFrame Operations\n",
    "\n",
    "1. Create a Pandas DataFrame with 3 columns and 5 rows filled with random integers. Add a new column that is the product of the first two columns.\n",
    "2. Create a Pandas DataFrame with 3 columns and 4 rows filled with random integers. Compute the row-wise and column-wise sum.\n",
    "\n",
    "### Assignment 3: Data Cleaning\n",
    "\n",
    "1. Create a Pandas DataFrame with 3 columns and 5 rows filled with random integers. Introduce some NaN values. Fill the NaN values with the mean of the respective columns.\n",
    "2. Create a Pandas DataFrame with 4 columns and 6 rows filled with random integers. Introduce some NaN values. Drop the rows with any NaN values.\n",
    "\n",
    "### Assignment 4: Data Aggregation\n",
    "\n",
    "1. Create a Pandas DataFrame with 2 columns: 'Category' and 'Value'. Fill the 'Category' column with random categories ('A', 'B', 'C') and the 'Value' column with random integers. Group the DataFrame by 'Category' and compute the sum and mean of 'Value' for each category.\n",
    "2. Create a Pandas DataFrame with 3 columns: 'Product', 'Category', and 'Sales'. Fill the DataFrame with random data. Group the DataFrame by 'Category' and compute the total sales for each category.\n",
    "\n",
    "### Assignment 5: Merging DataFrames\n",
    "\n",
    "1. Create two Pandas DataFrames with a common column. Merge the DataFrames using the common column.\n",
    "2. Create two Pandas DataFrames with different columns. Concatenate the DataFrames along the rows and along the columns.\n",
    "\n",
    "### Assignment 6: Time Series Analysis\n",
    "\n",
    "1. Create a Pandas DataFrame with a datetime index and one column filled with random integers. Resample the DataFrame to compute the monthly mean of the values.\n",
    "2. Create a Pandas DataFrame with a datetime index ranging from '2021-01-01' to '2021-12-31' and one column filled with random integers. Compute the rolling mean with a window of 7 days.\n",
    "\n",
    "### Assignment 7: MultiIndex DataFrame\n",
    "\n",
    "1. Create a Pandas DataFrame with a MultiIndex (hierarchical index). Perform some basic indexing and slicing operations on the MultiIndex DataFrame.\n",
    "2. Create a Pandas DataFrame with MultiIndex consisting of 'Category' and 'SubCategory'. Fill the DataFrame with random data and compute the sum of values for each 'Category' and 'SubCategory'.\n",
    "\n",
    "### Assignment 8: Pivot Tables\n",
    "\n",
    "1. Create a Pandas DataFrame with columns 'Date', 'Category', and 'Value'. Create a pivot table to compute the sum of 'Value' for each 'Category' by 'Date'.\n",
    "2. Create a Pandas DataFrame with columns 'Year', 'Quarter', and 'Revenue'. Create a pivot table to compute the mean 'Revenue' for each 'Quarter' by 'Year'.\n",
    "\n",
    "### Assignment 9: Applying Functions\n",
    "\n",
    "1. Create a Pandas DataFrame with 3 columns and 5 rows filled with random integers. Apply a function that doubles the values of the DataFrame.\n",
    "2. Create a Pandas DataFrame with 3 columns and 6 rows filled with random integers. Apply a lambda function to create a new column that is the sum of the existing columns.\n",
    "\n",
    "### Assignment 10: Working with Text Data\n",
    "\n",
    "1. Create a Pandas Series with 5 random text strings. Convert all the strings to uppercase.\n",
    "2. Create a Pandas Series with 5 random text strings. Extract the first three characters of each string.\n"
   ]
  },
  {
   "cell_type": "code",
   "execution_count": 1,
   "id": "1b7a1c91",
   "metadata": {},
   "outputs": [
    {
     "name": "stdout",
     "output_type": "stream",
     "text": [
      "Original DataFrame:\n",
      "   0  1  2  3\n",
      "0  8  9  4  1\n",
      "1  6  4  6  8\n",
      "2  1  9  8  9\n",
      "3  3  9  1  9\n",
      "4  4  1  6  3\n",
      "5  6  1  5  8\n",
      "\n",
      "DataFrame after setting First column as index: \n",
      "   0  1  2  3\n",
      "0            \n",
      "8  8  9  4  1\n",
      "6  6  4  6  8\n",
      "1  1  9  8  9\n",
      "3  3  9  1  9\n",
      "4  4  1  6  3\n",
      "6  6  1  5  8\n"
     ]
    }
   ],
   "source": [
    "## Ass1-1\n",
    "\n",
    "import pandas as pd\n",
    "import numpy as np\n",
    "matrix = np.random.randint(1, 11, size=(6,4))\n",
    "\n",
    "df = pd.DataFrame(matrix)\n",
    "\n",
    "# df\n",
    "print(\"Original DataFrame:\")\n",
    "print(df)\n",
    "\n",
    "\n",
    "df.set_index(df[0], inplace=True)\n",
    "print(\"\\nDataFrame after setting First column as index: \")\n",
    "print(df)"
   ]
  },
  {
   "cell_type": "code",
   "execution_count": 3,
   "id": "740263c5",
   "metadata": {},
   "outputs": [
    {
     "name": "stdout",
     "output_type": "stream",
     "text": [
      "Original DataFrame:\n",
      "    A  B   C\n",
      "X   1  3  10\n",
      "Y   3  6   5\n",
      "Z  10  2   4\n",
      "element is:  6\n"
     ]
    }
   ],
   "source": [
    "## ass1-2\n",
    "\n",
    "matrix = np.random.randint(1,11, size=(3,3))\n",
    "df = pd.DataFrame(matrix, columns=['A', 'B', 'C'], index=['X', 'Y', 'Z'])\n",
    "\n",
    "\n",
    "# df\n",
    "print(\"Original DataFrame:\")\n",
    "print(df)\n",
    "\n",
    "element = df.loc['Y', 'B']\n",
    "print(\"element is: \", element)"
   ]
  },
  {
   "cell_type": "code",
   "execution_count": 5,
   "id": "fc136c6b",
   "metadata": {},
   "outputs": [
    {
     "name": "stdout",
     "output_type": "stream",
     "text": [
      "Original DataFrame:\n",
      "   0   1  2\n",
      "0  4  10  7\n",
      "1  2   5  1\n",
      "2  4   2  2\n",
      "3  7   6  3\n",
      "4  1   1  2\n",
      "new df:\n",
      "\n",
      "   0   1  2  new_col\n",
      "0  4  10  7      280\n",
      "1  2   5  1       10\n",
      "2  4   2  2       16\n",
      "3  7   6  3      126\n",
      "4  1   1  2        2\n"
     ]
    }
   ],
   "source": [
    "## Ass2-1\n",
    "# Create a Pandas DataFrame with 3 columns and 5 rows filled with random integers. Add a new column that is the product of the first two columns.\n",
    "matrix = np.random.randint(1,11, size=(5,3))\n",
    "df = pd.DataFrame(matrix)\n",
    "\n",
    "print(\"Original DataFrame:\")\n",
    "print(df)\n",
    "\n",
    "df.insert(3, 'new_col', df[0]*df[1]*df[2])\n",
    "print(\"new df:\\n\")\n",
    "print(df)\n"
   ]
  },
  {
   "cell_type": "code",
   "execution_count": 6,
   "id": "5d8bc03c",
   "metadata": {},
   "outputs": [
    {
     "name": "stdout",
     "output_type": "stream",
     "text": [
      "Original DataFrame:\n",
      "   0  1   2\n",
      "0  9  6   9\n",
      "1  8  4   1\n",
      "2  4  1  10\n",
      "3  8  9   4\n",
      "4  7  1  10\n",
      "column wise sum: \n",
      "\n",
      "0    36\n",
      "1    21\n",
      "2    34\n",
      "dtype: int64\n",
      "row wise sum: \n",
      "\n",
      "0    24\n",
      "1    13\n",
      "2    15\n",
      "3    21\n",
      "4    18\n",
      "dtype: int64\n"
     ]
    }
   ],
   "source": [
    "## Ass2-2\n",
    "## Create a Pandas DataFrame with 3 columns and 4 rows filled with random integers. Compute the row-wise and column-wise sum.\n",
    "\n",
    "matrix = np.random.randint(1,11, size=(5,3))\n",
    "df = pd.DataFrame(matrix)\n",
    "\n",
    "print(\"Original DataFrame:\")\n",
    "print(df)\n",
    "\n",
    "print(\"column wise sum: \\n\")\n",
    "print(df.sum(axis=0))\n",
    "\n",
    "print(\"row wise sum: \\n\")\n",
    "print(df.sum(axis=1))"
   ]
  },
  {
   "cell_type": "code",
   "execution_count": null,
   "id": "db7b9a2c",
   "metadata": {},
   "outputs": [],
   "source": [
    "## Ass3-2\n",
    "## Create a Pandas DataFrame with 3 columns and 5 rows filled with random integers. Introduce some NaN values. Fill the NaN values with the mean of the respective columns.\n",
    "\n"
   ]
  }
 ],
 "metadata": {
  "kernelspec": {
   "display_name": "Python 3",
   "language": "python",
   "name": "python3"
  },
  "language_info": {
   "codemirror_mode": {
    "name": "ipython",
    "version": 3
   },
   "file_extension": ".py",
   "mimetype": "text/x-python",
   "name": "python",
   "nbconvert_exporter": "python",
   "pygments_lexer": "ipython3",
   "version": "3.13.4"
  }
 },
 "nbformat": 4,
 "nbformat_minor": 5
}
