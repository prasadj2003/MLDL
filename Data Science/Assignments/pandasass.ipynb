{
 "cells": [
  {
   "cell_type": "markdown",
   "id": "d43d1d2d",
   "metadata": {},
   "source": [
    "# Module: Pandas Assignments\n",
    "## Lesson: Pandas\n",
    "### Assignment 1: DataFrame Creation and Indexing\n",
    "\n",
    "1. Create a Pandas DataFrame with 4 columns and 6 rows filled with random integers. Set the index to be the first column.\n",
    "2. Create a Pandas DataFrame with columns 'A', 'B', 'C' and index 'X', 'Y', 'Z'. Fill the DataFrame with random integers and access the element at row 'Y' and column 'B'.\n",
    "\n",
    "### Assignment 2: DataFrame Operations\n",
    "\n",
    "1. Create a Pandas DataFrame with 3 columns and 5 rows filled with random integers. Add a new column that is the product of the first two columns.\n",
    "2. Create a Pandas DataFrame with 3 columns and 4 rows filled with random integers. Compute the row-wise and column-wise sum.\n",
    "\n",
    "### Assignment 3: Data Cleaning\n",
    "\n",
    "1. Create a Pandas DataFrame with 3 columns and 5 rows filled with random integers. Introduce some NaN values. Fill the NaN values with the mean of the respective columns.\n",
    "2. Create a Pandas DataFrame with 4 columns and 6 rows filled with random integers. Introduce some NaN values. Drop the rows with any NaN values.\n",
    "\n",
    "### Assignment 4: Data Aggregation\n",
    "\n",
    "1. Create a Pandas DataFrame with 2 columns: 'Category' and 'Value'. Fill the 'Category' column with random categories ('A', 'B', 'C') and the 'Value' column with random integers. Group the DataFrame by 'Category' and compute the sum and mean of 'Value' for each category.\n",
    "2. Create a Pandas DataFrame with 3 columns: 'Product', 'Category', and 'Sales'. Fill the DataFrame with random data. Group the DataFrame by 'Category' and compute the total sales for each category.\n",
    "\n",
    "### Assignment 5: Merging DataFrames\n",
    "\n",
    "1. Create two Pandas DataFrames with a common column. Merge the DataFrames using the common column.\n",
    "2. Create two Pandas DataFrames with different columns. Concatenate the DataFrames along the rows and along the columns.\n",
    "\n",
    "### Assignment 6: Time Series Analysis\n",
    "\n",
    "1. Create a Pandas DataFrame with a datetime index and one column filled with random integers. Resample the DataFrame to compute the monthly mean of the values.\n",
    "2. Create a Pandas DataFrame with a datetime index ranging from '2021-01-01' to '2021-12-31' and one column filled with random integers. Compute the rolling mean with a window of 7 days.\n",
    "\n",
    "### Assignment 7: MultiIndex DataFrame\n",
    "\n",
    "1. Create a Pandas DataFrame with a MultiIndex (hierarchical index). Perform some basic indexing and slicing operations on the MultiIndex DataFrame.\n",
    "2. Create a Pandas DataFrame with MultiIndex consisting of 'Category' and 'SubCategory'. Fill the DataFrame with random data and compute the sum of values for each 'Category' and 'SubCategory'.\n",
    "\n",
    "### Assignment 8: Pivot Tables\n",
    "\n",
    "1. Create a Pandas DataFrame with columns 'Date', 'Category', and 'Value'. Create a pivot table to compute the sum of 'Value' for each 'Category' by 'Date'.\n",
    "2. Create a Pandas DataFrame with columns 'Year', 'Quarter', and 'Revenue'. Create a pivot table to compute the mean 'Revenue' for each 'Quarter' by 'Year'.\n",
    "\n",
    "### Assignment 9: Applying Functions\n",
    "\n",
    "1. Create a Pandas DataFrame with 3 columns and 5 rows filled with random integers. Apply a function that doubles the values of the DataFrame.\n",
    "2. Create a Pandas DataFrame with 3 columns and 6 rows filled with random integers. Apply a lambda function to create a new column that is the sum of the existing columns.\n",
    "\n",
    "### Assignment 10: Working with Text Data\n",
    "\n",
    "1. Create a Pandas Series with 5 random text strings. Convert all the strings to uppercase.\n",
    "2. Create a Pandas Series with 5 random text strings. Extract the first three characters of each string.\n"
   ]
  },
  {
   "cell_type": "code",
   "execution_count": 1,
   "id": "1b7a1c91",
   "metadata": {},
   "outputs": [
    {
     "name": "stdout",
     "output_type": "stream",
     "text": [
      "Original DataFrame:\n",
      "    0  1  2  3\n",
      "0   4  2  3  9\n",
      "1   3  2  2  2\n",
      "2   3  2  2  7\n",
      "3  10  6  7  9\n",
      "4   7  1  5  1\n",
      "5   9  7  7  2\n",
      "\n",
      "DataFrame after setting First column as index: \n",
      "     0  1  2  3\n",
      "0              \n",
      "4    4  2  3  9\n",
      "3    3  2  2  2\n",
      "3    3  2  2  7\n",
      "10  10  6  7  9\n",
      "7    7  1  5  1\n",
      "9    9  7  7  2\n"
     ]
    }
   ],
   "source": [
    "## Ass1-1\n",
    "\n",
    "import pandas as pd\n",
    "import numpy as np\n",
    "matrix = np.random.randint(1, 11, size=(6,4))\n",
    "\n",
    "df = pd.DataFrame(matrix)\n",
    "\n",
    "# df\n",
    "print(\"Original DataFrame:\")\n",
    "print(df)\n",
    "\n",
    "\n",
    "df.set_index(df[0], inplace=True)\n",
    "print(\"\\nDataFrame after setting First column as index: \")\n",
    "print(df)"
   ]
  },
  {
   "cell_type": "code",
   "execution_count": 3,
   "id": "740263c5",
   "metadata": {},
   "outputs": [
    {
     "name": "stdout",
     "output_type": "stream",
     "text": [
      "Original DataFrame:\n",
      "    A  B   C\n",
      "X   1  3  10\n",
      "Y   3  6   5\n",
      "Z  10  2   4\n",
      "element is:  6\n"
     ]
    }
   ],
   "source": [
    "## ass1-2\n",
    "\n",
    "matrix = np.random.randint(1,11, size=(3,3))\n",
    "df = pd.DataFrame(matrix, columns=['A', 'B', 'C'], index=['X', 'Y', 'Z'])\n",
    "\n",
    "\n",
    "# df\n",
    "print(\"Original DataFrame:\")\n",
    "print(df)\n",
    "\n",
    "element = df.loc['Y', 'B']\n",
    "print(\"element is: \", element)"
   ]
  },
  {
   "cell_type": "code",
   "execution_count": 5,
   "id": "fc136c6b",
   "metadata": {},
   "outputs": [
    {
     "name": "stdout",
     "output_type": "stream",
     "text": [
      "Original DataFrame:\n",
      "   0   1  2\n",
      "0  4  10  7\n",
      "1  2   5  1\n",
      "2  4   2  2\n",
      "3  7   6  3\n",
      "4  1   1  2\n",
      "new df:\n",
      "\n",
      "   0   1  2  new_col\n",
      "0  4  10  7      280\n",
      "1  2   5  1       10\n",
      "2  4   2  2       16\n",
      "3  7   6  3      126\n",
      "4  1   1  2        2\n"
     ]
    }
   ],
   "source": [
    "## Ass2-1\n",
    "# Create a Pandas DataFrame with 3 columns and 5 rows filled with random integers. Add a new column that is the product of the first two columns.\n",
    "matrix = np.random.randint(1,11, size=(5,3))\n",
    "df = pd.DataFrame(matrix)\n",
    "\n",
    "print(\"Original DataFrame:\")\n",
    "print(df)\n",
    "\n",
    "df.insert(3, 'new_col', df[0]*df[1]*df[2])\n",
    "print(\"new df:\\n\")\n",
    "print(df)\n"
   ]
  },
  {
   "cell_type": "code",
   "execution_count": 6,
   "id": "5d8bc03c",
   "metadata": {},
   "outputs": [
    {
     "name": "stdout",
     "output_type": "stream",
     "text": [
      "Original DataFrame:\n",
      "   0  1   2\n",
      "0  9  6   9\n",
      "1  8  4   1\n",
      "2  4  1  10\n",
      "3  8  9   4\n",
      "4  7  1  10\n",
      "column wise sum: \n",
      "\n",
      "0    36\n",
      "1    21\n",
      "2    34\n",
      "dtype: int64\n",
      "row wise sum: \n",
      "\n",
      "0    24\n",
      "1    13\n",
      "2    15\n",
      "3    21\n",
      "4    18\n",
      "dtype: int64\n"
     ]
    }
   ],
   "source": [
    "## Ass2-2\n",
    "## Create a Pandas DataFrame with 3 columns and 4 rows filled with random integers. Compute the row-wise and column-wise sum.\n",
    "\n",
    "matrix = np.random.randint(1,11, size=(5,3))\n",
    "df = pd.DataFrame(matrix)\n",
    "\n",
    "print(\"Original DataFrame:\")\n",
    "print(df)\n",
    "\n",
    "print(\"column wise sum: \\n\")\n",
    "print(df.sum(axis=0))\n",
    "\n",
    "print(\"row wise sum: \\n\")\n",
    "print(df.sum(axis=1))"
   ]
  },
  {
   "cell_type": "code",
   "execution_count": 3,
   "id": "db7b9a2c",
   "metadata": {},
   "outputs": [
    {
     "name": "stdout",
     "output_type": "stream",
     "text": [
      "Original DataFrame:\n",
      "      A     B     C\n",
      "0   NaN  47.0  64.0\n",
      "1  67.0  67.0   9.0\n",
      "2  83.0   NaN  36.0\n",
      "3  87.0  70.0  88.0\n",
      "4  88.0  12.0   NaN\n",
      "\n",
      "DataFrame with NaN values filled:\n",
      "       A     B      C\n",
      "0  81.25  47.0  64.00\n",
      "1  67.00  67.0   9.00\n",
      "2  83.00  49.0  36.00\n",
      "3  87.00  70.0  88.00\n",
      "4  88.00  12.0  49.25\n"
     ]
    }
   ],
   "source": [
    "## Ass3-2\n",
    "## Create a Pandas DataFrame with 3 columns and 5 rows filled with random integers. Introduce some NaN values. Fill the NaN values with the mean of the respective columns.\n",
    "\n",
    "# Set a seed for reproducibility\n",
    "np.random.seed(0)\n",
    "\n",
    "# Create a DataFrame with random integers\n",
    "df = pd.DataFrame(np.random.randint(0, 100, size=(5, 3)), columns=list('ABC'))\n",
    "\n",
    "# Introduce some NaN values\n",
    "df.loc[0, 'A'] = np.nan\n",
    "df.loc[2, 'B'] = np.nan\n",
    "df.loc[4, 'C'] = np.nan\n",
    "\n",
    "print(\"Original DataFrame:\")\n",
    "print(df)\n",
    "\n",
    "# Fill NaN values with the mean of the respective columns\n",
    "df_filled = df.fillna(df.mean())\n",
    "\n",
    "print(\"\\nDataFrame with NaN values filled:\")\n",
    "print(df_filled)\n"
   ]
  },
  {
   "cell_type": "code",
   "execution_count": 7,
   "id": "37746b3a",
   "metadata": {},
   "outputs": [
    {
     "name": "stdout",
     "output_type": "stream",
     "text": [
      "Original DataFrame:\n",
      "  Category  Value\n",
      "0        A     12\n",
      "1        B     58\n",
      "2        A     65\n",
      "3        B     39\n",
      "4        B     87\n",
      "5        C     46\n",
      "6        A     88\n",
      "7        C     81\n",
      "8        A     37\n",
      "9        A     25\n",
      "\n",
      "Sum and Mean of 'Value' by Category:\n",
      "  Category  sum       mean\n",
      "0        A  227  45.400000\n",
      "1        B  184  61.333333\n",
      "2        C  127  63.500000\n"
     ]
    }
   ],
   "source": [
    "## Ass4-1\n",
    "## Create a Pandas DataFrame with 2 columns: 'Category' and 'Value'. Fill the 'Category' column with random categories ('A', 'B', 'C') and the 'Value' column with random integers. Group the DataFrame by 'Category' and compute the sum and mean of 'Value' for each category.\n",
    "\n",
    "np.random.seed(0)\n",
    "\n",
    "# Create a DataFrame with random categories and values\n",
    "categories = np.random.choice(['A', 'B', 'C'], size=10)\n",
    "values = np.random.randint(0, 100, size=10)\n",
    "df = pd.DataFrame({'Category': categories, 'Value': values})\n",
    "\n",
    "print(\"Original DataFrame:\")\n",
    "print(df)\n",
    "\n",
    "# Group the DataFrame by 'Category' and compute sum and mean of 'Value'\n",
    "grouped_df = df.groupby('Category')['Value'].agg(['sum', 'mean']).reset_index()\n",
    "\n",
    "print(\"\\nSum and Mean of 'Value' by Category:\")\n",
    "print(grouped_df)"
   ]
  },
  {
   "cell_type": "code",
   "execution_count": 9,
   "id": "57dcecf1",
   "metadata": {},
   "outputs": [
    {
     "name": "stdout",
     "output_type": "stream",
     "text": [
      "Original DataFrame:\n",
      "      Product     Category  Sales\n",
      "0   Product 1  Electronics    496\n",
      "1   Product 2      Fashion    414\n",
      "2   Product 3  Electronics    805\n",
      "3   Product 4      Fashion    586\n",
      "4   Product 5      Fashion    651\n",
      "5   Product 6   Home Goods    187\n",
      "6   Product 7  Electronics    274\n",
      "7   Product 8   Home Goods    700\n",
      "8   Product 9  Electronics    949\n",
      "9  Product 10  Electronics    777\n",
      "\n",
      "Total Sales by Category:\n",
      "      Category  Sales\n",
      "0  Electronics   3301\n",
      "1      Fashion   1651\n",
      "2   Home Goods    887\n"
     ]
    }
   ],
   "source": [
    "## Ass4-2\n",
    "## Create a Pandas DataFrame with 3 columns: 'Product', 'Category', and 'Sales'. Fill the DataFrame with random data. Group the DataFrame by 'Category' and compute the total sales for each category.\n",
    "\n",
    "np.random.seed(0)\n",
    "\n",
    "# Create a DataFrame with random products, categories, and sales\n",
    "products = [f'Product {i}' for i in range(1, 11)]\n",
    "categories = np.random.choice(['Electronics', 'Fashion', 'Home Goods'], size=10)\n",
    "sales = np.random.randint(100, 1000, size=10)\n",
    "df = pd.DataFrame({'Product': products, 'Category': categories, 'Sales': sales})\n",
    "\n",
    "print(\"Original DataFrame:\")\n",
    "print(df)\n",
    "\n",
    "# Group the DataFrame by 'Category' and compute total sales\n",
    "total_sales = df.groupby('Category')['Sales'].sum().reset_index()\n",
    "\n",
    "print(\"\\nTotal Sales by Category:\")\n",
    "print(total_sales)"
   ]
  }
 ],
 "metadata": {
  "kernelspec": {
   "display_name": "Python 3",
   "language": "python",
   "name": "python3"
  },
  "language_info": {
   "codemirror_mode": {
    "name": "ipython",
    "version": 3
   },
   "file_extension": ".py",
   "mimetype": "text/x-python",
   "name": "python",
   "nbconvert_exporter": "python",
   "pygments_lexer": "ipython3",
   "version": "3.13.4"
  }
 },
 "nbformat": 4,
 "nbformat_minor": 5
}
