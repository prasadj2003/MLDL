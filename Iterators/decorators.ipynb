{
 "cells": [
  {
   "cell_type": "markdown",
   "id": "c0412a25",
   "metadata": {},
   "source": [
    "decorators are a powerful and flexible way to modify or extend the behavior of functions or methods, without changing their actual code. A decorator is essentially a function that takes another function as an argument and returns a new function with enhanced functionality."
   ]
  },
  {
   "cell_type": "markdown",
   "id": "43aa2a9c",
   "metadata": {},
   "source": [
    "### Function copy"
   ]
  },
  {
   "cell_type": "code",
   "execution_count": 7,
   "id": "0c23aa30",
   "metadata": {},
   "outputs": [
    {
     "data": {
      "text/plain": [
       "'Welcome user'"
      ]
     },
     "execution_count": 7,
     "metadata": {},
     "output_type": "execute_result"
    }
   ],
   "source": [
    "def welcome():\n",
    "    return \"Welcome user\"\n",
    "\n",
    "welcome()"
   ]
  },
  {
   "cell_type": "code",
   "execution_count": 9,
   "id": "25f7142c",
   "metadata": {},
   "outputs": [
    {
     "name": "stdout",
     "output_type": "stream",
     "text": [
      "Welcome user\n",
      "Welcome user\n"
     ]
    }
   ],
   "source": [
    "wel = welcome\n",
    "print(wel())\n",
    "del welcome\n",
    "print(wel())"
   ]
  },
  {
   "cell_type": "markdown",
   "id": "bb617e1d",
   "metadata": {},
   "source": [
    "### Closures"
   ]
  },
  {
   "cell_type": "code",
   "execution_count": 15,
   "id": "397b7b84",
   "metadata": {},
   "outputs": [
    {
     "name": "stdout",
     "output_type": "stream",
     "text": [
      "before accessing variable msg\n",
      "hi there\n",
      "after accessing variable msg\n"
     ]
    }
   ],
   "source": [
    "def main_welcome(msg):\n",
    "    def sub_welcome_method():\n",
    "        print(\"before accessing variable msg\")\n",
    "        msg()\n",
    "        print(\"after accessing variable msg\")\n",
    "    return sub_welcome_method()\n",
    "\n",
    "def msg():\n",
    "    print(\"hi there\")\n",
    "\n",
    "main_welcome(msg)"
   ]
  },
  {
   "cell_type": "code",
   "execution_count": 17,
   "id": "872077aa",
   "metadata": {},
   "outputs": [
    {
     "name": "stdout",
     "output_type": "stream",
     "text": [
      "hi there\n",
      "before accessing variable msg\n",
      "after accessing variable msg\n"
     ]
    }
   ],
   "source": [
    "## Intresting observation --> with slight change hi there getting printed first\n",
    "'''\n",
    "When you call main_welcome(msg()), you're actually calling msg() first, which prints \"hi there\". \n",
    "Then, the return value of msg() (which is None because msg() doesn't return anything) \n",
    "is passed to main_welcome().\n",
    "'''\n",
    "\n",
    "def main_welcome(msg):\n",
    "    def sub_welcome_method():\n",
    "        print(\"before accessing variable msg\")\n",
    "        msg\n",
    "        print(\"after accessing variable msg\")\n",
    "    return sub_welcome_method()\n",
    "\n",
    "def msg():\n",
    "    print(\"hi there\")\n",
    "\n",
    "main_welcome(msg())"
   ]
  },
  {
   "cell_type": "code",
   "execution_count": 18,
   "id": "3bcb4b8f",
   "metadata": {},
   "outputs": [
    {
     "name": "stdout",
     "output_type": "stream",
     "text": [
      "before accessing variable msg\n",
      "the function is changed\n",
      "after accessing variable msg\n"
     ]
    }
   ],
   "source": [
    "def main_welcome(func):\n",
    "    def sub_welcome_method():\n",
    "        print(\"before accessing variable msg\")\n",
    "        func(\"the function is changed\")\n",
    "        print(\"after accessing variable msg\")\n",
    "    return sub_welcome_method()\n",
    "\n",
    "\n",
    "main_welcome(print)"
   ]
  },
  {
   "cell_type": "code",
   "execution_count": 19,
   "id": "b6df8179",
   "metadata": {},
   "outputs": [
    {
     "name": "stdout",
     "output_type": "stream",
     "text": [
      "first line\n",
      "6\n",
      "last line\n"
     ]
    }
   ],
   "source": [
    "def main_welcome(func, lst):\n",
    "    def sub_welcome_method():\n",
    "        print(\"first line\")\n",
    "        print(func(lst))\n",
    "        print(\"last line\")\n",
    "    return sub_welcome_method()\n",
    "\n",
    "\n",
    "main_welcome(len, [1,2,3,4,5,6])\n",
    "    "
   ]
  },
  {
   "cell_type": "markdown",
   "id": "043ff9a9",
   "metadata": {},
   "source": [
    "### Decorators"
   ]
  },
  {
   "cell_type": "code",
   "execution_count": 20,
   "id": "0639822a",
   "metadata": {},
   "outputs": [
    {
     "name": "stdout",
     "output_type": "stream",
     "text": [
      "Before calling the function.\n",
      "Hello, World!\n",
      "After calling the function.\n"
     ]
    }
   ],
   "source": [
    "# A simple decorator function\n",
    "def decorator(func):\n",
    "  \n",
    "    def wrapper():\n",
    "        print(\"Before calling the function.\")\n",
    "        func()\n",
    "        print(\"After calling the function.\")\n",
    "    return wrapper\n",
    "\n",
    "# Applying the decorator to a function\n",
    "@decorator\n",
    "\n",
    "def greet():\n",
    "    print(\"Hello, World!\")\n",
    "\n",
    "greet()"
   ]
  },
  {
   "cell_type": "code",
   "execution_count": 21,
   "id": "b306752a",
   "metadata": {},
   "outputs": [],
   "source": [
    "## Decorators with arguments\n",
    "\n",
    "def repeat(n):\n",
    "    def decorator(func):\n",
    "        def wrapper(*args, **kwargs):\n",
    "            for _ in range(n):\n",
    "                func(*args, **kwargs)\n",
    "        return wrapper\n",
    "    return decorator"
   ]
  },
  {
   "cell_type": "code",
   "execution_count": 22,
   "id": "7c74227c",
   "metadata": {},
   "outputs": [],
   "source": [
    "@repeat(3)\n",
    "def say_hello():\n",
    "    print(\"hello\")"
   ]
  },
  {
   "cell_type": "code",
   "execution_count": 23,
   "id": "1fbae637",
   "metadata": {},
   "outputs": [
    {
     "name": "stdout",
     "output_type": "stream",
     "text": [
      "hello\n",
      "hello\n",
      "hello\n"
     ]
    }
   ],
   "source": [
    "say_hello()"
   ]
  }
 ],
 "metadata": {
  "kernelspec": {
   "display_name": "Python 3",
   "language": "python",
   "name": "python3"
  },
  "language_info": {
   "codemirror_mode": {
    "name": "ipython",
    "version": 3
   },
   "file_extension": ".py",
   "mimetype": "text/x-python",
   "name": "python",
   "nbconvert_exporter": "python",
   "pygments_lexer": "ipython3",
   "version": "3.13.4"
  }
 },
 "nbformat": 4,
 "nbformat_minor": 5
}
