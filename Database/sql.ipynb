{
 "cells": [
  {
   "cell_type": "markdown",
   "id": "f64659a6",
   "metadata": {},
   "source": [
    "### Python SQLite3 module is used to integrate the SQLite database with Python. It is a standardized Python DBI API 2.0 and provides a straightforward and simple-to-use interface for interacting with SQLite databases"
   ]
  },
  {
   "cell_type": "code",
   "execution_count": 1,
   "id": "0aab2ab2",
   "metadata": {},
   "outputs": [],
   "source": [
    "import sqlite3"
   ]
  },
  {
   "cell_type": "code",
   "execution_count": 2,
   "id": "f35b3f0e",
   "metadata": {},
   "outputs": [
    {
     "data": {
      "text/plain": [
       "<sqlite3.Connection at 0x2001c606e30>"
      ]
     },
     "execution_count": 2,
     "metadata": {},
     "output_type": "execute_result"
    }
   ],
   "source": [
    "connection = sqlite3.connect('example.db')\n",
    "connection"
   ]
  },
  {
   "cell_type": "markdown",
   "id": "913970f4",
   "metadata": {},
   "source": [
    "### A Cursor is an object used to execute SQL queries on an SQLite database. It acts as a middleware between the SQLite database connection and the SQL commands. It is created after establishing a connection to the SQLite database."
   ]
  },
  {
   "cell_type": "code",
   "execution_count": 4,
   "id": "aae8d34a",
   "metadata": {},
   "outputs": [
    {
     "data": {
      "text/plain": [
       "<sqlite3.Cursor at 0x2001c82aa40>"
      ]
     },
     "execution_count": 4,
     "metadata": {},
     "output_type": "execute_result"
    }
   ],
   "source": [
    "cursor = connection.cursor()\n",
    "cursor"
   ]
  },
  {
   "cell_type": "code",
   "execution_count": 7,
   "id": "58ce3dd4",
   "metadata": {},
   "outputs": [],
   "source": [
    "## Creating a table\n",
    "\n",
    "cursor.execute('''\n",
    "    CREATE TABLE IF NOT EXISTS Employee(\n",
    "        id Integer Primary Key,\n",
    "        name Text Not Null,\n",
    "        age Integer,\n",
    "        department Text \n",
    "    )\n",
    "\n",
    "''')\n",
    "\n",
    "connection.commit()"
   ]
  },
  {
   "cell_type": "code",
   "execution_count": 8,
   "id": "30e4bde7",
   "metadata": {},
   "outputs": [
    {
     "data": {
      "text/plain": [
       "<sqlite3.Cursor at 0x2001c82aa40>"
      ]
     },
     "execution_count": 8,
     "metadata": {},
     "output_type": "execute_result"
    }
   ],
   "source": [
    "cursor.execute('''\n",
    "\n",
    "    Select * from employee\n",
    "\n",
    "''')"
   ]
  },
  {
   "cell_type": "code",
   "execution_count": 9,
   "id": "e42d5ff0",
   "metadata": {},
   "outputs": [],
   "source": [
    "## Inserting data\n",
    "\n",
    "cursor.execute('''\n",
    "\n",
    "    Insert into employee(id, name, age, department) values(1, 'Prasad', 22, 'CS')\n",
    "\n",
    "''')\n",
    "\n",
    "connection.commit()"
   ]
  },
  {
   "cell_type": "code",
   "execution_count": 11,
   "id": "6bbbee62",
   "metadata": {},
   "outputs": [
    {
     "name": "stdout",
     "output_type": "stream",
     "text": [
      "(1, 'Prasad', 22, 'CS')\n"
     ]
    }
   ],
   "source": [
    "cursor.execute('Select * from employee')\n",
    "rows = cursor.fetchall()\n",
    "\n",
    "\n",
    "for row in rows:\n",
    "    print(row)"
   ]
  },
  {
   "cell_type": "code",
   "execution_count": 12,
   "id": "d4c6db7e",
   "metadata": {},
   "outputs": [
    {
     "data": {
      "text/plain": [
       "<sqlite3.Cursor at 0x2001c82aa40>"
      ]
     },
     "execution_count": 12,
     "metadata": {},
     "output_type": "execute_result"
    }
   ],
   "source": [
    "## Update data in table\n",
    "\n",
    "cursor.execute('''\n",
    "    Update employee\n",
    "    set age = 21 \n",
    "    where name='Prasad'\n",
    "''')"
   ]
  },
  {
   "cell_type": "code",
   "execution_count": 13,
   "id": "863a4abe",
   "metadata": {},
   "outputs": [
    {
     "name": "stdout",
     "output_type": "stream",
     "text": [
      "(1, 'Prasad', 21, 'CS')\n"
     ]
    }
   ],
   "source": [
    "cursor.execute('Select * from employee')\n",
    "rows = cursor.fetchall()\n",
    "\n",
    "\n",
    "for row in rows:\n",
    "    print(row)"
   ]
  },
  {
   "cell_type": "code",
   "execution_count": 14,
   "id": "f494efc3",
   "metadata": {},
   "outputs": [
    {
     "data": {
      "text/plain": [
       "<sqlite3.Cursor at 0x2001c82aa40>"
      ]
     },
     "execution_count": 14,
     "metadata": {},
     "output_type": "execute_result"
    }
   ],
   "source": [
    "## Deleting data from table\n",
    "\n",
    "cursor.execute('''\n",
    "    Delete from employee \n",
    "    where name='Prasad'\n",
    "''')"
   ]
  },
  {
   "cell_type": "code",
   "execution_count": 15,
   "id": "5a8f36b3",
   "metadata": {},
   "outputs": [],
   "source": [
    "cursor.execute('Select * from employee')\n",
    "rows = cursor.fetchall()\n",
    "\n",
    "\n",
    "for row in rows:\n",
    "    print(row)"
   ]
  },
  {
   "cell_type": "code",
   "execution_count": 16,
   "id": "6243440a",
   "metadata": {},
   "outputs": [],
   "source": [
    "connection.close()"
   ]
  }
 ],
 "metadata": {
  "kernelspec": {
   "display_name": "Python 3",
   "language": "python",
   "name": "python3"
  },
  "language_info": {
   "codemirror_mode": {
    "name": "ipython",
    "version": 3
   },
   "file_extension": ".py",
   "mimetype": "text/x-python",
   "name": "python",
   "nbconvert_exporter": "python",
   "pygments_lexer": "ipython3",
   "version": "3.13.4"
  }
 },
 "nbformat": 4,
 "nbformat_minor": 5
}
