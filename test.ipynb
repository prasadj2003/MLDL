{
 "cells": [
  {
   "cell_type": "code",
   "execution_count": 1,
   "id": "f888e679",
   "metadata": {},
   "outputs": [
    {
     "data": {
      "text/plain": [
       "2"
      ]
     },
     "execution_count": 1,
     "metadata": {},
     "output_type": "execute_result"
    }
   ],
   "source": [
    "1+1"
   ]
  },
  {
   "cell_type": "code",
   "execution_count": 2,
   "id": "6de234ba",
   "metadata": {},
   "outputs": [
    {
     "name": "stdout",
     "output_type": "stream",
     "text": [
      "Hello\n"
     ]
    }
   ],
   "source": [
    "print(\"Hello\")"
   ]
  },
  {
   "cell_type": "code",
   "execution_count": 5,
   "id": "e63902c8",
   "metadata": {},
   "outputs": [
    {
     "name": "stdout",
     "output_type": "stream",
     "text": [
      "6\n",
      "29\n"
     ]
    }
   ],
   "source": [
    "# Arbitrary argument function\n",
    "\n",
    "def sum_all(*args):\n",
    "    sum = 0\n",
    "    for i in args:\n",
    "        sum += i\n",
    "    return sum\n",
    "\n",
    "print(sum_all(1,2,3))\n",
    "print(sum_all(5,6,9,8,1))"
   ]
  },
  {
   "cell_type": "code",
   "execution_count": 6,
   "id": "94a09a97",
   "metadata": {},
   "outputs": [],
   "source": [
    "# Arbitrary keyword argument\n",
    "\n",
    "def print_details(**kwargs):\n",
    "    for key, value in kwargs.items():\n",
    "        print(f\"{key}: {value}\")"
   ]
  },
  {
   "cell_type": "code",
   "execution_count": 7,
   "id": "07549754",
   "metadata": {},
   "outputs": [
    {
     "name": "stdout",
     "output_type": "stream",
     "text": [
      "name: Prasad\n",
      "age: 22\n"
     ]
    }
   ],
   "source": [
    "print_details(name=\"Prasad\", age=22)"
   ]
  },
  {
   "cell_type": "code",
   "execution_count": 1,
   "id": "6725cb65",
   "metadata": {},
   "outputs": [
    {
     "name": "stdout",
     "output_type": "stream",
     "text": [
      "460\n"
     ]
    }
   ],
   "source": [
    "def calculate_tal_cost(cart):\n",
    "    total = 0\n",
    "    for i in cart:\n",
    "        total += i['price'] * i['quantity']\n",
    "    print(total)\n",
    "\n",
    "cart1 = [\n",
    "    {'name': 'Apple', 'price': 25, 'quantity': 4},\n",
    "    {'name': 'Apple', 'price': 100, 'quantity': 2},\n",
    "    {'name': 'Apple', 'price': 20, 'quantity': 8}\n",
    "]\n",
    "\n",
    "calculate_tal_cost(cart1)"
   ]
  },
  {
   "cell_type": "code",
   "execution_count": 8,
   "id": "6bb350c3",
   "metadata": {},
   "outputs": [
    {
     "name": "stdout",
     "output_type": "stream",
     "text": [
      "4\n"
     ]
    }
   ],
   "source": [
    "# Lambda functions\n",
    "\n",
    "square = lambda x: x*x\n",
    "print(square(2))"
   ]
  },
  {
   "cell_type": "code",
   "execution_count": 10,
   "id": "fa7977cf",
   "metadata": {},
   "outputs": [
    {
     "name": "stdout",
     "output_type": "stream",
     "text": [
      "[1, 4, 9, 16, 25, 36]\n"
     ]
    }
   ],
   "source": [
    "numbers = [1,2,3,4,5,6]\n",
    "print(list(map(square, numbers)))\n"
   ]
  },
  {
   "cell_type": "code",
   "execution_count": 11,
   "id": "fa638900",
   "metadata": {},
   "outputs": [
    {
     "name": "stdout",
     "output_type": "stream",
     "text": [
      "[1, 4, 9, 16, 25, 36]\n"
     ]
    }
   ],
   "source": [
    "# map function\n",
    "\n",
    "print(list(map(lambda x: x*x, numbers)))"
   ]
  },
  {
   "cell_type": "code",
   "execution_count": 12,
   "id": "b4c86ae7",
   "metadata": {},
   "outputs": [
    {
     "data": {
      "text/plain": [
       "[5, 7, 9]"
      ]
     },
     "execution_count": 12,
     "metadata": {},
     "output_type": "execute_result"
    }
   ],
   "source": [
    "# map multiple iterables\n",
    "\n",
    "num1 = [1,2,3]\n",
    "num2 = [4,5,6]\n",
    "\n",
    "list(map(lambda x,y: x+y, num1, num2))"
   ]
  },
  {
   "cell_type": "code",
   "execution_count": 13,
   "id": "226ff25f",
   "metadata": {},
   "outputs": [
    {
     "data": {
      "text/plain": [
       "[1, 2, 3, 4]"
      ]
     },
     "execution_count": 13,
     "metadata": {},
     "output_type": "execute_result"
    }
   ],
   "source": [
    "# map to coinvert list of string to integer\n",
    "\n",
    "str_num = ['1', '2', '3', '4']\n",
    "list(map(int, str_num))"
   ]
  },
  {
   "cell_type": "markdown",
   "id": "3c4aca71",
   "metadata": {},
   "source": [
    "## Filter"
   ]
  },
  {
   "cell_type": "code",
   "execution_count": 14,
   "id": "4a0c4f1e",
   "metadata": {},
   "outputs": [
    {
     "name": "stdout",
     "output_type": "stream",
     "text": [
      "Help on class filter in module builtins:\n",
      "\n",
      "class filter(object)\n",
      " |  filter(function, iterable, /)\n",
      " |\n",
      " |  Return an iterator yielding those items of iterable for which function(item)\n",
      " |  is true. If function is None, return the items that are true.\n",
      " |\n",
      " |  Methods defined here:\n",
      " |\n",
      " |  __getattribute__(self, name, /)\n",
      " |      Return getattr(self, name).\n",
      " |\n",
      " |  __iter__(self, /)\n",
      " |      Implement iter(self).\n",
      " |\n",
      " |  __next__(self, /)\n",
      " |      Implement next(self).\n",
      " |\n",
      " |  __reduce__(self, /)\n",
      " |      Return state information for pickling.\n",
      " |\n",
      " |  ----------------------------------------------------------------------\n",
      " |  Static methods defined here:\n",
      " |\n",
      " |  __new__(*args, **kwargs)\n",
      " |      Create and return a new object.  See help(type) for accurate signature.\n",
      "\n"
     ]
    }
   ],
   "source": [
    "help(filter)"
   ]
  },
  {
   "cell_type": "code",
   "execution_count": 20,
   "id": "300bff52",
   "metadata": {},
   "outputs": [
    {
     "name": "stdout",
     "output_type": "stream",
     "text": [
      "[6, 6]\n"
     ]
    }
   ],
   "source": [
    "num = [1,2,3,4,4,5,6,6]\n",
    "\n",
    "def even(num):\n",
    "    t = filter(lambda x: x>5, num)\n",
    "    print(list(t))\n",
    "\n",
    "even(num)"
   ]
  },
  {
   "cell_type": "code",
   "execution_count": 24,
   "id": "bbc97d9f",
   "metadata": {},
   "outputs": [
    {
     "name": "stdout",
     "output_type": "stream",
     "text": [
      "[6, 6]\n"
     ]
    }
   ],
   "source": [
    "def even_greater(num):\n",
    "    t = filter(lambda x: x>5 and x%2==0, num)\n",
    "    print(list(t))\n",
    "\n",
    "even_greater(num)"
   ]
  },
  {
   "cell_type": "code",
   "execution_count": 3,
   "id": "51cac9b1",
   "metadata": {},
   "outputs": [
    {
     "name": "stdout",
     "output_type": "stream",
     "text": [
      "4.0\n"
     ]
    }
   ],
   "source": [
    "import numpy as np\n",
    "print(np.sqrt(16))"
   ]
  },
  {
   "cell_type": "markdown",
   "id": "16bf3600",
   "metadata": {},
   "source": [
    "## Using my own custom package.\n",
    "### Note: whenever defining packages. Inside the folder you need to have __init__.py file"
   ]
  },
  {
   "cell_type": "code",
   "execution_count": 17,
   "id": "4f2b40a9",
   "metadata": {},
   "outputs": [
    {
     "ename": "ImportError",
     "evalue": "cannot import name 'subtraction' from 'packages.maths' (d:\\machine_learning_2\\packages\\maths.py)",
     "output_type": "error",
     "traceback": [
      "\u001b[31m---------------------------------------------------------------------------\u001b[39m",
      "\u001b[31mImportError\u001b[39m                               Traceback (most recent call last)",
      "\u001b[36mCell\u001b[39m\u001b[36m \u001b[39m\u001b[32mIn[17]\u001b[39m\u001b[32m, line 1\u001b[39m\n\u001b[32m----> \u001b[39m\u001b[32m1\u001b[39m \u001b[38;5;28;01mfrom\u001b[39;00m\u001b[38;5;250m \u001b[39m\u001b[34;01mpackages\u001b[39;00m\u001b[34;01m.\u001b[39;00m\u001b[34;01mmaths\u001b[39;00m\u001b[38;5;250m \u001b[39m\u001b[38;5;28;01mimport\u001b[39;00m addition, subtraction\n\u001b[32m      2\u001b[39m addition(\u001b[32m5\u001b[39m, \u001b[32m6\u001b[39m)\n\u001b[32m      3\u001b[39m subtraction(\u001b[32m6\u001b[39m, \u001b[32m5\u001b[39m)\n",
      "\u001b[31mImportError\u001b[39m: cannot import name 'subtraction' from 'packages.maths' (d:\\machine_learning_2\\packages\\maths.py)"
     ]
    }
   ],
   "source": [
    "from packages.maths import addition, subtraction\n",
    "addition(5, 6)\n",
    "subtraction(6, 5)"
   ]
  },
  {
   "cell_type": "markdown",
   "id": "01064927",
   "metadata": {},
   "source": [
    "### Standard libraries"
   ]
  },
  {
   "cell_type": "code",
   "execution_count": 3,
   "id": "d4147121",
   "metadata": {},
   "outputs": [
    {
     "name": "stdout",
     "output_type": "stream",
     "text": [
      "array('i', [1, 2, 3, 3])\n"
     ]
    }
   ],
   "source": [
    "import array\n",
    "\n",
    "arr = array.array('i', [1,2,3,3])\n",
    "print(arr)"
   ]
  },
  {
   "cell_type": "code",
   "execution_count": 13,
   "id": "d5dd8a7e",
   "metadata": {},
   "outputs": [
    {
     "name": "stdout",
     "output_type": "stream",
     "text": [
      "4\n",
      "apple\n"
     ]
    }
   ],
   "source": [
    "import random\n",
    "\n",
    "print(random.randint(1,10))\n",
    "print(random.choice(['apple', 'cherry', 'pineapple']))"
   ]
  },
  {
   "cell_type": "code",
   "execution_count": null,
   "id": "e707570b",
   "metadata": {},
   "outputs": [
    {
     "data": {
      "text/plain": [
       "'d:\\\\machine_learning_2'"
      ]
     },
     "execution_count": 15,
     "metadata": {},
     "output_type": "execute_result"
    }
   ],
   "source": [
    "import os\n",
    "# used for file and directory access\n",
    "\n",
    "os.getcwd()\n"
   ]
  },
  {
   "cell_type": "markdown",
   "id": "f6fb278a",
   "metadata": {},
   "source": [
    "### High level file operations"
   ]
  },
  {
   "cell_type": "code",
   "execution_count": 16,
   "id": "ec358409",
   "metadata": {},
   "outputs": [
    {
     "data": {
      "text/plain": [
       "'destination.txt'"
      ]
     },
     "execution_count": 16,
     "metadata": {},
     "output_type": "execute_result"
    }
   ],
   "source": [
    "import shutil\n",
    "\n",
    "shutil.copyfile('source.txt', 'destination.txt')"
   ]
  },
  {
   "cell_type": "markdown",
   "id": "eb84faa1",
   "metadata": {},
   "source": [
    "### Data serialization"
   ]
  },
  {
   "cell_type": "code",
   "execution_count": 6,
   "id": "be92ae08",
   "metadata": {},
   "outputs": [
    {
     "name": "stdout",
     "output_type": "stream",
     "text": [
      "{\"name\": \"Prasad\", \"age\": 22}\n",
      "<class 'str'>\n",
      "{'name': 'Prasad', 'age': 22}\n",
      "<class 'dict'>\n"
     ]
    }
   ],
   "source": [
    "import json\n",
    "\n",
    "data = {\"name\": \"Prasad\", \"age\": 22}\n",
    "json_str = json.dumps(data)\n",
    "print(json.dumps(data))\n",
    "print(type(json.dumps(data)))\n",
    "\n",
    "parsed_data = json.loads(json_str)\n",
    "print(parsed_data)\n",
    "print(type(parsed_data))"
   ]
  },
  {
   "cell_type": "code",
   "execution_count": 7,
   "id": "9f48f0ac",
   "metadata": {},
   "outputs": [
    {
     "name": "stdout",
     "output_type": "stream",
     "text": [
      "['name', 'age']\n",
      "['Prasad', '22']\n"
     ]
    }
   ],
   "source": [
    "## csv\n",
    "\n",
    "import csv\n",
    "\n",
    "with open('example.csv', mode='w', newline='') as file:\n",
    "    writer = csv.writer(file)\n",
    "    writer.writerow(['name', 'age'])\n",
    "    writer.writerow(['Prasad', 22])\n",
    "\n",
    "\n",
    "with open('example.csv', mode='r') as file:\n",
    "    reader = csv.reader(file)\n",
    "    for row in reader:\n",
    "        print(row)"
   ]
  },
  {
   "cell_type": "code",
   "execution_count": 10,
   "id": "3462154c",
   "metadata": {},
   "outputs": [
    {
     "name": "stdout",
     "output_type": "stream",
     "text": [
      "2025-06-15 18:59:25.871926\n",
      "2025-06-14 18:59:25.871926\n"
     ]
    }
   ],
   "source": [
    "## datetime\n",
    "\n",
    "from datetime import datetime, timedelta\n",
    "\n",
    "now = datetime.now()\n",
    "print(now)\n",
    "\n",
    "yesterday = now-timedelta(days=1)\n",
    "print(yesterday)"
   ]
  },
  {
   "cell_type": "code",
   "execution_count": 11,
   "id": "8674ca43",
   "metadata": {},
   "outputs": [
    {
     "name": "stdout",
     "output_type": "stream",
     "text": [
      "1749994215.087038\n",
      "1749994217.0877314\n"
     ]
    }
   ],
   "source": [
    "## time\n",
    "\n",
    "import time\n",
    "\n",
    "print(time.time())\n",
    "time.sleep(2)\n",
    "print(time.time())"
   ]
  },
  {
   "cell_type": "code",
   "execution_count": 13,
   "id": "0c25dc65",
   "metadata": {},
   "outputs": [
    {
     "name": "stdout",
     "output_type": "stream",
     "text": [
      "123\n"
     ]
    }
   ],
   "source": [
    "## Regular expression\n",
    "\n",
    "import re\n",
    "\n",
    "pattern = r'\\d+'\n",
    "text = 'there are 123 apples'\n",
    "match = re.search(pattern, text)\n",
    "print(match.group())"
   ]
  }
 ],
 "metadata": {
  "kernelspec": {
   "display_name": "Python 3",
   "language": "python",
   "name": "python3"
  },
  "language_info": {
   "codemirror_mode": {
    "name": "ipython",
    "version": 3
   },
   "file_extension": ".py",
   "mimetype": "text/x-python",
   "name": "python",
   "nbconvert_exporter": "python",
   "pygments_lexer": "ipython3",
   "version": "3.13.4"
  }
 },
 "nbformat": 4,
 "nbformat_minor": 5
}
