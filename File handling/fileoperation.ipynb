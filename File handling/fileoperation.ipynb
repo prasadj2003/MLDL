{
 "cells": [
  {
   "cell_type": "code",
   "execution_count": 2,
   "id": "6921cb06",
   "metadata": {},
   "outputs": [
    {
     "name": "stdout",
     "output_type": "stream",
     "text": [
      "Hello how are you\n",
      "My name is Prasad Padmakar Joshi\n",
      "I am from India\n"
     ]
    }
   ],
   "source": [
    "with open('example.txt', 'r') as file:\n",
    "    content = file.read()\n",
    "    print(content)\n"
   ]
  },
  {
   "cell_type": "code",
   "execution_count": null,
   "id": "7defed30",
   "metadata": {},
   "outputs": [
    {
     "name": "stdout",
     "output_type": "stream",
     "text": [
      "Hello how are you\n",
      "My name is Prasad Padmakar Joshi\n",
      "I am from India\n"
     ]
    }
   ],
   "source": [
    "# read line by line\n",
    "with open('example.txt', 'r') as file:\n",
    "    for line in file:\n",
    "        print(line.strip()) # strip() operation removes the newline character"
   ]
  },
  {
   "cell_type": "code",
   "execution_count": 5,
   "id": "bb6744b8",
   "metadata": {},
   "outputs": [],
   "source": [
    "# writing to file(overwriting)\n",
    "\n",
    "with open('example.txt', 'w') as file:\n",
    "    file.write('Hwllo world\\n')\n",
    "    file.write('this is an overwritten line')"
   ]
  },
  {
   "cell_type": "code",
   "execution_count": 7,
   "id": "9b8b0c03",
   "metadata": {},
   "outputs": [],
   "source": [
    "# writing to file without overwriting\n",
    "\n",
    "with open('example.txt', 'a') as file: # a is the append mode\n",
    "    file.write('\\nthis is appended text')"
   ]
  },
  {
   "cell_type": "code",
   "execution_count": 8,
   "id": "40957fa9",
   "metadata": {},
   "outputs": [],
   "source": [
    "## Writing list of lines to a file\n",
    "lines = [\"first line\\n\", \"second line\\n\", \"third line\\n\"]\n",
    "with open(\"example.txt\", 'a') as file:\n",
    "    file.writelines(lines)"
   ]
  },
  {
   "cell_type": "markdown",
   "id": "da70e9fd",
   "metadata": {},
   "source": [
    "### Binary Files"
   ]
  },
  {
   "cell_type": "code",
   "execution_count": 9,
   "id": "d8b599cb",
   "metadata": {},
   "outputs": [],
   "source": [
    "data = b'\\x00\\x01\\x02\\x03\\x04'\n",
    "with open('example.bin', 'wb') as file: # wb stands for write byte mode\n",
    "    file.write(data)\n"
   ]
  },
  {
   "cell_type": "code",
   "execution_count": 10,
   "id": "0618f583",
   "metadata": {},
   "outputs": [
    {
     "name": "stdout",
     "output_type": "stream",
     "text": [
      "b'\\x00\\x01\\x02\\x03\\x04'\n"
     ]
    }
   ],
   "source": [
    "with open('example.bin', 'rb') as file: # wb stands for write byte mode\n",
    "    content = file.read()\n",
    "    print(content)"
   ]
  },
  {
   "cell_type": "code",
   "execution_count": 11,
   "id": "23b9213d",
   "metadata": {},
   "outputs": [],
   "source": [
    "## Read content from source text file and write to a destination text file\n",
    "\n",
    "with open('example.txt', 'r') as source_file:\n",
    "    content = source_file.read()\n",
    "\n",
    "with open('destination.txt', 'w') as destination_file:\n",
    "    destination_file.write(content) "
   ]
  },
  {
   "cell_type": "code",
   "execution_count": null,
   "id": "e1ad1371",
   "metadata": {},
   "outputs": [
    {
     "name": "stdout",
     "output_type": "stream",
     "text": [
      "Lines: 5 words: 19 characters: 116\n"
     ]
    }
   ],
   "source": [
    "# Read a text file and count number of lines, words and characters\n",
    "\n",
    "def count_file(file_path):\n",
    "    with open(file_path, 'r') as file:\n",
    "        lines = file.readlines()\n",
    "        line_count = len(lines)\n",
    "        word_count = sum(len(line.split()) for line in lines)\n",
    "        '''\n",
    "            sum = 0\n",
    "            for line in lines:\n",
    "                sum += len(line.split())\n",
    "\n",
    "        '''\n",
    "        char_count = sum(len(line) for line in lines)\n",
    "    return line_count, word_count, char_count\n",
    "\n",
    "file_path = 'example.txt'\n",
    "lines, words, characters = count_file(file_path)\n",
    "print(f\"Lines: {lines} words: {words} characters: {characters}\")"
   ]
  },
  {
   "cell_type": "code",
   "execution_count": 15,
   "id": "4237b271",
   "metadata": {},
   "outputs": [
    {
     "name": "stdout",
     "output_type": "stream",
     "text": [
      "Hwllo world\n",
      "This is a new line\n",
      "\n"
     ]
    }
   ],
   "source": [
    "## Writing and then reading\n",
    "\n",
    "with open('example.txt', 'w+') as file:\n",
    "    file.write(\"Hwllo world\\n\")\n",
    "    file.write(\"This is a new line\\n\")\n",
    "\n",
    "    # move the file cursor to the beginning\n",
    "    file.seek(0)\n",
    "\n",
    "    ##Read the content of the file\n",
    "    content = file.read()\n",
    "    print(content)"
   ]
  }
 ],
 "metadata": {
  "kernelspec": {
   "display_name": "Python 3",
   "language": "python",
   "name": "python3"
  },
  "language_info": {
   "codemirror_mode": {
    "name": "ipython",
    "version": 3
   },
   "file_extension": ".py",
   "mimetype": "text/x-python",
   "name": "python",
   "nbconvert_exporter": "python",
   "pygments_lexer": "ipython3",
   "version": "3.13.4"
  }
 },
 "nbformat": 4,
 "nbformat_minor": 5
}
