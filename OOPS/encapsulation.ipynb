{
 "cells": [
  {
   "cell_type": "code",
   "execution_count": null,
   "id": "2e1c4f8a",
   "metadata": {},
   "outputs": [
    {
     "name": "stdout",
     "output_type": "stream",
     "text": [
      "Prasad\n"
     ]
    },
    {
     "data": {
      "text/plain": [
       "'Prasad'"
      ]
     },
     "execution_count": 4,
     "metadata": {},
     "output_type": "execute_result"
    }
   ],
   "source": [
    "## Encapsulation with getter and setter methods\n",
    "## Public, protected and private variables\n",
    "\n",
    "class Person:\n",
    "    def __init__(self, name, age):\n",
    "        self.name = name ## public variable\n",
    "        self.age = age   ## public variable\n",
    "\n",
    "def get_name(person):\n",
    "    return person.name\n",
    "\n",
    "person = Person(\"Prasad\", 22)\n",
    "print(person.name) # I can access this variable from outside the class\n",
    "get_name(person)"
   ]
  },
  {
   "cell_type": "code",
   "execution_count": 9,
   "id": "67a2acf0",
   "metadata": {},
   "outputs": [],
   "source": [
    "## __ -> 2 underscores make it a private variable\n",
    "class Person:\n",
    "    def __init__(self, name, age, gender):\n",
    "        self.__name = name ## private variable\n",
    "        self.__age = age   ## private variable\n",
    "        self.__gender = gender\n",
    "\n",
    "def get_name(person):\n",
    "    return person.__name"
   ]
  },
  {
   "cell_type": "code",
   "execution_count": 11,
   "id": "676763d0",
   "metadata": {},
   "outputs": [],
   "source": [
    "person = Person(\"prasad\", 22, \"M\")\n",
    "# dir(person)\n",
    "# get_name(person) --> does not work"
   ]
  },
  {
   "cell_type": "code",
   "execution_count": 13,
   "id": "5f4a0bec",
   "metadata": {},
   "outputs": [
    {
     "name": "stdout",
     "output_type": "stream",
     "text": [
      "Prasad\n"
     ]
    }
   ],
   "source": [
    "## Protected variable --> single underscore\n",
    "## can be accessed from derived class\n",
    "class Person:\n",
    "    def __init__(self, name, age, gender):\n",
    "        self._name = name ## protected variable\n",
    "        self._age = age   ## protected variable\n",
    "        self._gender = gender\n",
    "\n",
    "class Employee(Person):\n",
    "    def __init__(self, name, age, gender):\n",
    "        super().__init__(name, age, gender)\n",
    "\n",
    "employee = Employee(\"Prasad\", 22, \"M\")\n",
    "print(employee._name)"
   ]
  },
  {
   "cell_type": "markdown",
   "id": "3201985f",
   "metadata": {},
   "source": [
    "### Encapsulation with getter and setter methods"
   ]
  },
  {
   "cell_type": "code",
   "execution_count": 15,
   "id": "d1a46856",
   "metadata": {},
   "outputs": [
    {
     "name": "stdout",
     "output_type": "stream",
     "text": [
      "Prasad\n",
      "22\n",
      "age cannot be negative\n",
      "new name: PJ\n",
      "new age: 25\n"
     ]
    }
   ],
   "source": [
    "class Person:\n",
    "    def __init__(self, name, age):\n",
    "        self.__name = name\n",
    "        self.__age = age\n",
    "\n",
    "    # Getter method\n",
    "    def get_name(self):\n",
    "        return self.__name\n",
    "    \n",
    "    def get_age(self):\n",
    "        return self.__age\n",
    "    \n",
    "    # setter method\n",
    "    def set_name(self, name):\n",
    "        self.__name = name\n",
    "\n",
    "    def set_age(self, age):\n",
    "        if age > 0:\n",
    "            self.__age = age\n",
    "        else:\n",
    "            print(\"age cannot be negative\")\n",
    "\n",
    "person = Person(\"Prasad\", 22)\n",
    "\n",
    "## Access and modify private variables using getter and setter methods\n",
    "\n",
    "print(person.get_name())\n",
    "print(person.get_age())\n",
    "person.set_age(-5)\n",
    "person.set_age(25)\n",
    "person.set_name(\"PJ\")\n",
    "print(f\"new name: {person.get_name()}\")\n",
    "print(f\"new age: {person.get_age()}\")"
   ]
  }
 ],
 "metadata": {
  "kernelspec": {
   "display_name": "Python 3",
   "language": "python",
   "name": "python3"
  },
  "language_info": {
   "codemirror_mode": {
    "name": "ipython",
    "version": 3
   },
   "file_extension": ".py",
   "mimetype": "text/x-python",
   "name": "python",
   "nbconvert_exporter": "python",
   "pygments_lexer": "ipython3",
   "version": "3.13.4"
  }
 },
 "nbformat": 4,
 "nbformat_minor": 5
}
