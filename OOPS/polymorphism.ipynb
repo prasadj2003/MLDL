{
 "cells": [
  {
   "cell_type": "code",
   "execution_count": null,
   "id": "4c026b98",
   "metadata": {},
   "outputs": [
    {
     "name": "stdout",
     "output_type": "stream",
     "text": [
      "The dog's whofff!\n",
      "The cat's meowwww!\n",
      "The dog's whofff!\n"
     ]
    }
   ],
   "source": [
    "# Method overriding --> child class can provide a specific implementation of a method\n",
    "\n",
    "# Base class\n",
    "class Animal:\n",
    "    def speak(self):\n",
    "        return \"Sound of the animal\"\n",
    "    \n",
    "# derived class 1\n",
    "class Dog(Animal):\n",
    "    def speak(self):\n",
    "        return \"The dog's whofff!\"\n",
    "    \n",
    "# derived class 2\n",
    "class Cat(Animal):\n",
    "    def speak(self):\n",
    "        return \"The cat's meowwww!\"\n",
    "    \n",
    "# function that demonstrates polymorphism\n",
    "\n",
    "def animal_speak(animal): # here the animal parameter is the object\n",
    "    print(animal.speak())\n",
    "    \n",
    "dog = Dog()\n",
    "print(dog.speak())\n",
    "cat = Cat()\n",
    "print(cat.speak())\n",
    "animal_speak(dog)"
   ]
  },
  {
   "cell_type": "code",
   "execution_count": 12,
   "id": "e3562c34",
   "metadata": {},
   "outputs": [
    {
     "name": "stdout",
     "output_type": "stream",
     "text": [
      "56\n",
      "The area of figure\n"
     ]
    }
   ],
   "source": [
    "# Polymorphism withh functions and methods\n",
    "\n",
    "# base class\n",
    "class Shape:\n",
    "    def area(self):\n",
    "        return \"The area of figure\"\n",
    "    \n",
    "# derived class 1\n",
    "\n",
    "class Rectangle(Shape):\n",
    "    def __init__(self, width, height):\n",
    "        self.width = width\n",
    "        self.height = height\n",
    "\n",
    "    def area(self):\n",
    "        return self.width*self.height\n",
    "    \n",
    "# derived class 2\n",
    "\n",
    "class Triangle(Shape):\n",
    "    def __init__(self, base, height):\n",
    "        self.base = base\n",
    "        self.height = height\n",
    "\n",
    "    def shape(self):\n",
    "        return (1/2)*self.base*self.height\n",
    "    \n",
    "rect = Rectangle(7,8)\n",
    "print(rect.area())\n",
    "tri = Triangle(4, 7)\n",
    "print(tri.area())\n",
    "\n",
    "\n",
    "# Look at the difference. When we call area method for triangle which \n",
    "# has not been defined for it, it calls the parent class method"
   ]
  },
  {
   "cell_type": "markdown",
   "id": "b8befd59",
   "metadata": {},
   "source": [
    "### Polymorphism with abstract base class\n",
    "ABCs are used to define a common interface that subclasses must implement. They enforce a consistent structure and behavior across a group of related classes, promoting code reusability and maintainability."
   ]
  },
  {
   "cell_type": "code",
   "execution_count": 16,
   "id": "456f1bca",
   "metadata": {},
   "outputs": [
    {
     "name": "stdout",
     "output_type": "stream",
     "text": [
      "Car engine started\n",
      "motorcycle engine started\n"
     ]
    }
   ],
   "source": [
    "from abc import ABC, abstractmethod\n",
    "\n",
    "## define an abstract class\n",
    "\n",
    "class Vehicle(ABC):\n",
    "    @abstractmethod\n",
    "    def start_engine(self):\n",
    "        pass # since it is abstract it needs to be empty\n",
    "\n",
    "## derived class 1\n",
    "class Car(Vehicle):\n",
    "    def start_engine(self):\n",
    "        return \"Car engine started\"\n",
    "    \n",
    "## derived class 2\n",
    "class Motorcycle(Vehicle):\n",
    "    def start_engine(self):\n",
    "        return \"motorcycle engine started\"\n",
    "    \n",
    "car1 = Car()\n",
    "motorcycle = Motorcycle()\n",
    "print(car1.start_engine())\n",
    "print(motorcycle.start_engine())"
   ]
  }
 ],
 "metadata": {
  "kernelspec": {
   "display_name": "Python 3",
   "language": "python",
   "name": "python3"
  },
  "language_info": {
   "codemirror_mode": {
    "name": "ipython",
    "version": 3
   },
   "file_extension": ".py",
   "mimetype": "text/x-python",
   "name": "python",
   "nbconvert_exporter": "python",
   "pygments_lexer": "ipython3",
   "version": "3.13.4"
  }
 },
 "nbformat": 4,
 "nbformat_minor": 5
}
