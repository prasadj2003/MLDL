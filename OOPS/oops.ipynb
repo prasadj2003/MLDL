{
 "cells": [
  {
   "cell_type": "code",
   "execution_count": 2,
   "id": "9f3092c7",
   "metadata": {},
   "outputs": [
    {
     "name": "stdout",
     "output_type": "stream",
     "text": [
      "<class '__main__.Car'>\n",
      "<__main__.Car object at 0x000001FA85FDC6E0>\n"
     ]
    }
   ],
   "source": [
    "class Car:\n",
    "    pass\n",
    "\n",
    "audi = Car()\n",
    "print(type(audi))\n",
    "print(audi)"
   ]
  },
  {
   "cell_type": "code",
   "execution_count": null,
   "id": "b99a2ed6",
   "metadata": {},
   "outputs": [
    {
     "name": "stdout",
     "output_type": "stream",
     "text": [
      "<__main__.Dog object at 0x000001FA85FDD400>\n",
      "oslo\n",
      "3\n"
     ]
    }
   ],
   "source": [
    "## Instance variable and methods\n",
    "\n",
    "class Dog:\n",
    "    ## constructor\n",
    "    def __init__(self, name, age):\n",
    "        self.name = name # self.name is the instance varible\n",
    "        self.age = age\n",
    "\n",
    "##creating objects\n",
    "dog1 = Dog(\"oslo\", 3)\n",
    "print(dog1)\n",
    "print(dog1.name)\n",
    "print(dog1.age)"
   ]
  },
  {
   "cell_type": "code",
   "execution_count": 8,
   "id": "b097a927",
   "metadata": {},
   "outputs": [
    {
     "name": "stdout",
     "output_type": "stream",
     "text": [
      "oslo says wooffff!\n",
      "Lucy says wooffff!\n"
     ]
    }
   ],
   "source": [
    "## Class with instance methods\n",
    "\n",
    "class Dog:\n",
    "    def __init__(self, name, age):\n",
    "        self.name = name\n",
    "        self.age = age\n",
    "\n",
    "    def bark(self):\n",
    "        print(f\"{self.name} says wooffff!\")\n",
    "\n",
    "dog1 = Dog(\"oslo\", 3)\n",
    "dog2 = Dog(\"Lucy\", 5)\n",
    "dog1.bark()\n",
    "dog2.bark()"
   ]
  },
  {
   "cell_type": "markdown",
   "id": "60b2bb42",
   "metadata": {},
   "source": [
    "### Modelling a bank account"
   ]
  },
  {
   "cell_type": "code",
   "execution_count": 17,
   "id": "96ddb083",
   "metadata": {},
   "outputs": [
    {
     "name": "stdout",
     "output_type": "stream",
     "text": [
      "available balance is 10000\n",
      "5000 is deposited new balance is 15000\n",
      "520 deducted from account. Available balance is 14480\n"
     ]
    }
   ],
   "source": [
    "class MinimumBalanceException(Exception):\n",
    "    def __init__(self, message):\n",
    "        self.message = message\n",
    "        \n",
    "\n",
    "\n",
    "class BankAccount:\n",
    "    def __init__(self, owner, balance=0):\n",
    "        self.owner = owner\n",
    "        self.balance = balance\n",
    "\n",
    "    def deposit(self, amount):\n",
    "        self.balance += amount\n",
    "        print(f\"{amount} is deposited new balance is {self.balance}\")\n",
    "\n",
    "    def withdraw(self, amount):\n",
    "        if amount > self.balance:\n",
    "            raise MinimumBalanceException(f\"{amount} to be withdrawn is greater than the balance which is {self.balance}\")\n",
    "        else:\n",
    "            self.balance -= amount\n",
    "            print(f\"{amount} deducted from account. Available balance is {self.balance}\")\n",
    "\n",
    "    def viewBalance(self):\n",
    "        print(f\"available balance is {self.balance}\")\n",
    "\n",
    "acc1 = BankAccount(\"Prasad\", 10000)\n",
    "acc1.viewBalance()\n",
    "acc1.deposit(5000)\n",
    "acc1.withdraw(520)"
   ]
  }
 ],
 "metadata": {
  "kernelspec": {
   "display_name": "Python 3",
   "language": "python",
   "name": "python3"
  },
  "language_info": {
   "codemirror_mode": {
    "name": "ipython",
    "version": 3
   },
   "file_extension": ".py",
   "mimetype": "text/x-python",
   "name": "python",
   "nbconvert_exporter": "python",
   "pygments_lexer": "ipython3",
   "version": "3.13.4"
  }
 },
 "nbformat": 4,
 "nbformat_minor": 5
}
