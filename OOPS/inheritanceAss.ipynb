{
 "cells": [
  {
   "cell_type": "markdown",
   "id": "f5429ab7",
   "metadata": {},
   "source": [
    "# Module: Inheritance Assignments\n",
    "## Lesson: Single and Multiple Inheritance\n",
    "### Assignment 1: Single Inheritance Basic\n",
    "\n",
    "Create a base class named `Animal` with attributes `name` and `species`. Create a derived class named `Dog` that inherits from `Animal` and adds an attribute `breed`. Create an object of the `Dog` class and print its attributes.\n",
    "\n",
    "### Assignment 2: Method Overriding in Single Inheritance\n",
    "\n",
    "In the `Dog` class, override the `__str__` method to return a string representation of the object. Create an object of the class and print it.\n",
    "\n",
    "### Assignment 3: Single Inheritance with Additional Methods\n",
    "\n",
    "In the `Dog` class, add a method named `bark` that prints a barking sound. Create an object of the class and call the method.\n",
    "\n",
    "### Assignment 4: Multiple Inheritance Basic\n",
    "\n",
    "Create a base class named `Walker` with a method `walk` that prints a walking message. Create another base class named `Runner` with a method `run` that prints a running message. Create a derived class named `Athlete` that inherits from both `Walker` and `Runner`. Create an object of the `Athlete` class and call both methods.\n",
    "\n",
    "### Assignment 5: Method Resolution Order (MRO) in Multiple Inheritance\n",
    "\n",
    "In the `Athlete` class, override the `walk` method to print a different message. Create an object of the class and call the `walk` method. Use the `super()` function to call the `walk` method of the `Walker` class.\n",
    "\n",
    "### Assignment 6: Multiple Inheritance with Additional Attributes\n",
    "\n",
    "In the `Athlete` class, add an attribute `training_hours` and a method `train` that prints the training hours. Create an object of the class and call the method.\n",
    "\n",
    "### Assignment 7: Diamond Problem in Multiple Inheritance\n",
    "\n",
    "Create a class named `A` with a method `show` that prints a message. Create two derived classes `B` and `C` that inherit from `A` and override the `show` method. Create a class `D` that inherits from both `B` and `C`. Create an object of the `D` class and call the `show` method. Observe the method resolution order.\n",
    "\n",
    "### Assignment 8: Using `super()` in Single Inheritance\n",
    "\n",
    "Create a base class named `Shape` with an attribute `color`. Create a derived class named `Circle` that inherits from `Shape` and adds an attribute `radius`. Use the `super()` function to initialize the attributes. Create an object of the `Circle` class and print its attributes.\n",
    "\n",
    "### Assignment 9: Using `super()` in Multiple Inheritance\n",
    "\n",
    "Create a class named `Person` with an attribute `name`. Create a class named `Employee` with an attribute `employee_id`. Create a derived class `Manager` that inherits from both `Person` and `Employee`. Use the `super()` function to initialize the attributes. Create an object of the `Manager` class and print its attributes.\n",
    "\n",
    "### Assignment 10: Method Overriding and `super()`\n",
    "\n",
    "Create a class named `Vehicle` with a method `start` that prints a starting message. Create a derived class `Car` that overrides the `start` method to print a different message. Use the `super()` function to call the `start` method of the `Vehicle` class. Create an object of the `Car` class and call the `start` method.\n",
    "\n",
    "### Assignment 11: Multiple Inheritance with Different Methods\n",
    "\n",
    "Create a class named `Flyer` with a method `fly` that prints a flying message. Create a class named `Swimmer` with a method `swim` that prints a swimming message. Create a derived class `Superhero` that inherits from both `Flyer` and `Swimmer`. Create an object of the `Superhero` class and call both methods.\n",
    "\n",
    "### Assignment 12: Complex Multiple Inheritance\n",
    "\n",
    "Create a class named `Base1` with an attribute `a`. Create a class named `Base2` with an attribute `b`. Create a class named `Derived` that inherits from both `Base1` and `Base2` and adds an attribute `c`. Initialize all attributes using the `super()` function. Create an object of the `Derived` class and print its attributes.\n",
    "\n",
    "### Assignment 13: Checking Instance Types with Inheritance\n",
    "\n",
    "Create a base class named `Animal` and a derived class named `Cat`. Create objects of both classes and use the `isinstance` function to check the instance types.\n",
    "\n",
    "### Assignment 14: Polymorphism with Inheritance\n",
    "\n",
    "Create a base class named `Bird` with a method `speak`. Create two derived classes `Parrot` and `Penguin` that override the `speak` method. Create a list of `Bird` objects and call the `speak` method on each object to demonstrate polymorphism.\n",
    "\n",
    "### Assignment 15: Combining Single and Multiple Inheritance\n",
    "\n",
    "Create a base class named `Device` with an attribute `brand`. Create a derived class `Phone` that inherits from `Device` and adds an attribute `model`. Create another base class `Camera` with an attribute `resolution`. Create a derived class `Smartphone` that inherits from both `Phone` and `Camera`. Create an object of the `Smartphone` class and print its attributes."
   ]
  },
  {
   "cell_type": "code",
   "execution_count": null,
   "id": "10dfd937",
   "metadata": {},
   "outputs": [
    {
     "name": "stdout",
     "output_type": "stream",
     "text": [
      "this is walking\n",
      "this is runnning\n"
     ]
    }
   ],
   "source": [
    "## Ass 4 & 5\n",
    "\n",
    "class Walker:\n",
    "    def walk(self):\n",
    "        print(\"this is walking\")\n",
    "\n",
    "class Runner:\n",
    "    def run(self):\n",
    "        print(\"this is runnning\")\n",
    "\n",
    "class Athlete(Walker, Runner):\n",
    "    def __init__(self, name):\n",
    "        self.name = name\n",
    "\n",
    "    def walk(self):\n",
    "        # print(f\"{self.name} is walking\")\n",
    "        return super().walk() # -> using calling the parent class implementation of method\n",
    "\n",
    "prasad = Athlete(\"Prasad\")\n",
    "prasad.walk()\n",
    "prasad.run()"
   ]
  },
  {
   "cell_type": "code",
   "execution_count": 15,
   "id": "42d2033c",
   "metadata": {},
   "outputs": [
    {
     "name": "stdout",
     "output_type": "stream",
     "text": [
      "Prasad will train for 45 hours\n"
     ]
    }
   ],
   "source": [
    "## Ass 6\n",
    "\n",
    "class Walker:\n",
    "    def walk(self):\n",
    "        print(\"this is walking\")\n",
    "\n",
    "class Runner:\n",
    "    def run(self):\n",
    "        print(\"this is runnning\")\n",
    "\n",
    "class Athlete(Walker, Runner):\n",
    "    def __init__(self, name, training_hours):\n",
    "        self.name = name\n",
    "        self.traning_hours = training_hours\n",
    "\n",
    "    def walk(self):\n",
    "        # print(f\"{self.name} is walking\")\n",
    "        return super().walk() # -> using calling the parent class implementation of method\n",
    "    \n",
    "    def train(self):\n",
    "        print(f\"{self.name} will train for {self.traning_hours} hours\")\n",
    "\n",
    "prasad = Athlete(\"Prasad\", 45)\n",
    "prasad.train()"
   ]
  },
  {
   "cell_type": "markdown",
   "id": "49ad045f",
   "metadata": {},
   "source": [
    "## Diamond problem\n",
    "*Definition*\n",
    "\n",
    "Occurs in multiple inheritance when two classes inherit from the same base class and another class inherits from both of them.\n",
    "Creates ambiguity when trying to access methods or attributes from the base class.\n",
    "\n",
    "- Issues\n",
    "1. Method resolution order (MRO) can be unpredictable.\n",
    "2. Can lead to duplicate calls to base class methods.\n",
    "- Resolution\n",
    "1. Python's MRO uses C3 linearization algorithm to resolve the order of inheritance.\n",
    "2. Can be checked using `class.mro() or class.__mro__`.\n",
    "- Best Practice\n",
    "1. Use multiple inheritance carefully and avoid complex diamond structures.\n",
    "2. Use super() to call parent class methods and ensure correct MRO."
   ]
  },
  {
   "cell_type": "code",
   "execution_count": 1,
   "id": "1c289e2d",
   "metadata": {},
   "outputs": [
    {
     "name": "stdout",
     "output_type": "stream",
     "text": [
      "class circle\n"
     ]
    }
   ],
   "source": [
    "class shape:\n",
    "    def display(self):\n",
    "        print(\"class shape\")\n",
    "\n",
    "class circle(shape):\n",
    "    def display(self):\n",
    "        print(\"class circle\")\n",
    "\n",
    "class square(shape):\n",
    "    def display(self):\n",
    "        print(\"class square\")\n",
    "\n",
    "class cylinder(circle, square):\n",
    "    pass\n",
    "\n",
    "obj = cylinder()\n",
    "obj.display()  # Calls circle's display method"
   ]
  },
  {
   "cell_type": "code",
   "execution_count": 2,
   "id": "4c416b1d",
   "metadata": {},
   "outputs": [
    {
     "name": "stdout",
     "output_type": "stream",
     "text": [
      "class circle\n",
      "[<class '__main__.Cylinder'>, <class '__main__.Circle'>, <class '__main__.Square'>, <class '__main__.Shape'>, <class 'object'>]\n"
     ]
    }
   ],
   "source": [
    "class Shape:\n",
    "    def draw(self):\n",
    "        print(\"class shape\")\n",
    "\n",
    "class Circle(Shape):\n",
    "    def draw(self):\n",
    "        print(\"class circle\")\n",
    "\n",
    "class Square(Shape):\n",
    "    def draw(self):\n",
    "        print(\"class square\")\n",
    "\n",
    "class Cylinder(Circle, Square):\n",
    "    pass\n",
    "\n",
    "obj = Cylinder()\n",
    "obj.draw()  # Resolves using the MRO\n",
    "print(Cylinder.mro())  # Displays the MRO"
   ]
  },
  {
   "cell_type": "markdown",
   "id": "8f8406b8",
   "metadata": {},
   "source": [
    "### Using super()"
   ]
  },
  {
   "cell_type": "code",
   "execution_count": 3,
   "id": "eefab993",
   "metadata": {},
   "outputs": [
    {
     "name": "stdout",
     "output_type": "stream",
     "text": [
      "class shape called\n",
      "class square called\n",
      "class circle called\n",
      "class cylinder called\n"
     ]
    }
   ],
   "source": [
    "class shape:\n",
    "    def greet(self):\n",
    "        print(\"class shape called\")\n",
    "\n",
    "class circle(shape):\n",
    "    def greet(self):\n",
    "        super().greet()\n",
    "        print(\"class circle called\")\n",
    "\n",
    "class square(shape):\n",
    "    def greet(self):\n",
    "        super().greet()\n",
    "        print(\"class square called\")\n",
    "\n",
    "class cylinder(circle, square):\n",
    "    def greet(self):\n",
    "        super().greet()\n",
    "        print(\"class cylinder called\")\n",
    "\n",
    "d = cylinder()\n",
    "d.greet()"
   ]
  },
  {
   "cell_type": "code",
   "execution_count": 7,
   "id": "bdda9c2e",
   "metadata": {},
   "outputs": [
    {
     "name": "stdout",
     "output_type": "stream",
     "text": [
      "5\n",
      "Red\n"
     ]
    }
   ],
   "source": [
    "## Assignment 8\n",
    "\n",
    "class Shape:\n",
    "    def __init__(self, color):\n",
    "        self.color = color\n",
    "\n",
    "class Circle(Shape):\n",
    "    def __init__(self, color, radius):\n",
    "        super().__init__(color)\n",
    "        self.radius = radius\n",
    "\n",
    "circle1 = Circle(\"Red\",5)\n",
    "print(circle1.radius)\n",
    "print(circle1.color)"
   ]
  },
  {
   "cell_type": "code",
   "execution_count": 9,
   "id": "cc6433a6",
   "metadata": {},
   "outputs": [
    {
     "name": "stdout",
     "output_type": "stream",
     "text": [
      "Prasad\n",
      "123\n"
     ]
    }
   ],
   "source": [
    "## Ass 9\n",
    "\n",
    "class Person:\n",
    "    def __init__(self, name):\n",
    "        self.name = name\n",
    "\n",
    "class Employee(Person):\n",
    "    def __init__(self, name, emp_id):\n",
    "        super().__init__(name)\n",
    "        self.emp_id = emp_id\n",
    "\n",
    "class Manager(Employee):\n",
    "    def __init__(self, name, emp_id):\n",
    "        super().__init__(name, emp_id)\n",
    "\n",
    "prasad = Manager(\"Prasad\", 123)\n",
    "print(prasad.name)\n",
    "print(prasad.emp_id)"
   ]
  },
  {
   "cell_type": "code",
   "execution_count": 14,
   "id": "11404e77",
   "metadata": {},
   "outputs": [
    {
     "name": "stdout",
     "output_type": "stream",
     "text": [
      "the car is starting\n",
      "the vehicle is starting\n",
      "------------------------\n",
      "the vehicle is starting\n"
     ]
    }
   ],
   "source": [
    "## Ass 10\n",
    "\n",
    "class Vehicle:\n",
    "    def start(self):\n",
    "        print(\"the vehicle is starting\")\n",
    "\n",
    "class Car(Vehicle):\n",
    "    def start(self):\n",
    "        print(\"the car is starting\")\n",
    "        super().start()\n",
    "\n",
    "mustang = Car()\n",
    "mustang.start() #--> This first prints the overridden method and the the base class method\n",
    "print(\"------------------------\")\n",
    "Vehicle.start(mustang) # --> this bypasses the overridden method and prints the base class implementation of method\n"
   ]
  },
  {
   "cell_type": "code",
   "execution_count": 16,
   "id": "7b4d2abb",
   "metadata": {},
   "outputs": [
    {
     "name": "stdout",
     "output_type": "stream",
     "text": [
      "the superhero can fly\n",
      "the superhero can swim\n"
     ]
    }
   ],
   "source": [
    "## Ass 11\n",
    "\n",
    "class Flyer:\n",
    "    def fly(self):\n",
    "        print(\"the superhero can fly\")\n",
    "\n",
    "class Swimmer:\n",
    "    def swim(self):\n",
    "        print(\"the superhero can swim\")\n",
    "\n",
    "class Superhero(Flyer, Swimmer):\n",
    "    def action(self):\n",
    "        pass\n",
    "\n",
    "\n",
    "superman = Superhero()\n",
    "superman.fly()\n",
    "superman.swim()"
   ]
  },
  {
   "cell_type": "code",
   "execution_count": 18,
   "id": "34ca13c7",
   "metadata": {},
   "outputs": [
    {
     "name": "stdout",
     "output_type": "stream",
     "text": [
      "attribute a\n",
      "attribute b\n",
      "attribute c\n",
      "attribute a\n",
      "attribute b\n",
      "attribute c\n"
     ]
    }
   ],
   "source": [
    "## Ass 12\n",
    "\n",
    "## -------------------------------------------------------THIS IS KNOWN AS COOPERATIVE INHHERITANCE----------------------------------------------------------\n",
    "class Base1:\n",
    "    def __init__(self, a, **kwargs):\n",
    "        self.a = a\n",
    "        super().__init__(**kwargs)\n",
    "\n",
    "class Base2:\n",
    "    def __init__(self, b, **kwargs):\n",
    "        self.b = b\n",
    "        super().__init__(**kwargs)\n",
    "\n",
    "class Object:\n",
    "    def __init__(self, **kwargs):\n",
    "        pass\n",
    "\n",
    "class Derived(Base1, Base2, Object):\n",
    "    def __init__(self, a, b, c):\n",
    "        super().__init__(a=a, b=b)\n",
    "        self.c = c\n",
    "\n",
    "obj = Derived(\"attribute a\", \"attribute b\", \"attribute c\")\n",
    "print(obj.a)\n",
    "print(obj.b)\n",
    "print(obj.c)\n",
    "\n",
    "#--------------------------------------------------------------------------------------------------------------------------------------------------------------\n",
    "\n",
    "## -------------------------------------------------------------------STRAIGHTTFORWARD APPROACH-----------------------------------------------------------------\n",
    "\n",
    "class Base1:\n",
    "    def __init__(self, a):\n",
    "        self.a = a\n",
    "\n",
    "class Base2:\n",
    "    def __init__(self, b):\n",
    "        self.b = b\n",
    "\n",
    "class Derived(Base1, Base2):\n",
    "    def __init__(self, a, b, c):\n",
    "        Base1.__init__(self, a)\n",
    "        Base2.__init__(self, b)\n",
    "        self.c = c\n",
    "\n",
    "obj = Derived(\"attribute a\", \"attribute b\", \"attribute c\")\n",
    "print(obj.a)\n",
    "print(obj.b)\n",
    "print(obj.c)\n",
    "\n",
    "#-----------------------------------------------------------------------------------------------------------------------------------------------------------\n"
   ]
  },
  {
   "cell_type": "code",
   "execution_count": 20,
   "id": "5c1adcd0",
   "metadata": {},
   "outputs": [
    {
     "name": "stdout",
     "output_type": "stream",
     "text": [
      "Help on built-in function isinstance in module builtins:\n",
      "\n",
      "isinstance(obj, class_or_tuple, /)\n",
      "    Return whether an object is an instance of a class or of a subclass thereof.\n",
      "\n",
      "    A tuple, as in ``isinstance(x, (A, B, ...))``, may be given as the target to\n",
      "    check against. This is equivalent to ``isinstance(x, A) or isinstance(x, B)\n",
      "    or ...`` etc.\n",
      "\n"
     ]
    }
   ],
   "source": [
    "help((isinstance))"
   ]
  },
  {
   "cell_type": "code",
   "execution_count": 26,
   "id": "83bfcbe5",
   "metadata": {},
   "outputs": [
    {
     "name": "stdout",
     "output_type": "stream",
     "text": [
      "True\n",
      "True\n",
      "True\n",
      "False\n"
     ]
    }
   ],
   "source": [
    "## Ass 13\n",
    "\n",
    "class Animal:\n",
    "    def sound(self):\n",
    "        pass\n",
    "\n",
    "class Cat(Animal):\n",
    "    def sound(self):\n",
    "        pass\n",
    "\n",
    "animal = Animal()\n",
    "cat = Cat()\n",
    "\n",
    "print(isinstance(animal, Animal))\n",
    "print(isinstance(cat, Animal))\n",
    "print(isinstance(cat, Cat))\n",
    "print((isinstance(animal, Cat)))\n",
    "# print(isinstance(Cat, cat))"
   ]
  },
  {
   "cell_type": "code",
   "execution_count": 31,
   "id": "cbe65aef",
   "metadata": {},
   "outputs": [
    {
     "name": "stdout",
     "output_type": "stream",
     "text": [
      "this is a parrot speaking\n",
      "this is a penguin speaking\n",
      "this is a bird speaking\n"
     ]
    }
   ],
   "source": [
    "## Ass 14\n",
    "\n",
    "# class Bird:\n",
    "#     def speak(self):\n",
    "#         print(\"this is a bird speaking\")\n",
    "\n",
    "# class Parrot(Bird):\n",
    "#     def speak(self):\n",
    "#         print(\"this is a parrot speaking\")\n",
    "\n",
    "# class Penguin(Bird):\n",
    "#     def speak(self):\n",
    "#         print(\"this is a penguin speaking\")\n",
    "\n",
    "# peng = Penguin()\n",
    "# peng.speak()\n",
    "# parr = Parrot()\n",
    "# parr.speak()\n",
    "\n",
    "# Bird.speak(parr)\n",
    "\n",
    "class Bird:\n",
    "    def speak(self):\n",
    "        print(\"this is a bird speaking\")\n",
    "\n",
    "class Parrot(Bird):\n",
    "    def speak(self):\n",
    "        print(\"this is a parrot speaking\")\n",
    "\n",
    "class Penguin(Bird):\n",
    "    def speak(self):\n",
    "        print(\"this is a penguin speaking\")\n",
    "\n",
    "birds = [Parrot(), Penguin(), Bird()]\n",
    "for bird in birds:\n",
    "    bird.speak()"
   ]
  },
  {
   "cell_type": "code",
   "execution_count": 37,
   "id": "2af38f00",
   "metadata": {},
   "outputs": [
    {
     "name": "stdout",
     "output_type": "stream",
     "text": [
      "nokia\n",
      "x100\n",
      "100px\n"
     ]
    }
   ],
   "source": [
    "## Ass 15\n",
    "class Device:\n",
    "    def __init__(self, brand):\n",
    "        self.brand = brand\n",
    "\n",
    "class Phone(Device):\n",
    "    def __init__(self, brand, model):\n",
    "        super().__init__(brand)\n",
    "        self.model = model\n",
    "\n",
    "class Camera:\n",
    "    def __init__(self, resolution):\n",
    "        self.resolution = resolution\n",
    "\n",
    "class Smartphone(Phone, Camera):\n",
    "    def __init__(self, brand, model, resolution):\n",
    "        Phone.__init__(self, brand, model)\n",
    "        Camera.__init__(self, resolution)\n",
    "\n",
    "smartphone = Smartphone(\"nokia\", \"x100\", \"100px\")\n",
    "print(smartphone.brand)\n",
    "print(smartphone.model)\n",
    "print(smartphone.resolution)"
   ]
  }
 ],
 "metadata": {
  "kernelspec": {
   "display_name": "Python 3",
   "language": "python",
   "name": "python3"
  },
  "language_info": {
   "codemirror_mode": {
    "name": "ipython",
    "version": 3
   },
   "file_extension": ".py",
   "mimetype": "text/x-python",
   "name": "python",
   "nbconvert_exporter": "python",
   "pygments_lexer": "ipython3",
   "version": "3.13.4"
  }
 },
 "nbformat": 4,
 "nbformat_minor": 5
}
