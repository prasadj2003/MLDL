{
 "cells": [
  {
   "cell_type": "code",
   "execution_count": 1,
   "id": "dc71d677",
   "metadata": {},
   "outputs": [],
   "source": [
    "## parent class\n",
    "\n",
    "class Car:\n",
    "    def __init__(self, windows, doors, engineType):\n",
    "        self.windows = windows\n",
    "        self.doors = doors\n",
    "        self.engineType = engineType\n",
    "\n",
    "    def drive(self):\n",
    "        print(f\"The person will drive {self.engineType} car\")"
   ]
  },
  {
   "cell_type": "code",
   "execution_count": 2,
   "id": "08cb0aa5",
   "metadata": {},
   "outputs": [
    {
     "name": "stdout",
     "output_type": "stream",
     "text": [
      "The person will drive Petrol car\n"
     ]
    }
   ],
   "source": [
    "car1 = Car(4, 4, \"Petrol\")\n",
    "car1.drive()"
   ]
  },
  {
   "cell_type": "code",
   "execution_count": 7,
   "id": "4a9b685c",
   "metadata": {},
   "outputs": [],
   "source": [
    "## Single inheritance\n",
    "class Tesla(Car):\n",
    "    def __init__(self, windows, doors, engineType, is_selfdriving):\n",
    "        super().__init__(windows, doors, engineType) ## super is used to call the parent class and here we are calling the init method from parent class\n",
    "        self.is_selfdriving = is_selfdriving\n",
    "\n",
    "    def selfdriving(self):\n",
    "        print(f\"Tesla supports self driving {self.is_selfdriving}\")"
   ]
  },
  {
   "cell_type": "code",
   "execution_count": 6,
   "id": "1ee9dcd2",
   "metadata": {},
   "outputs": [
    {
     "name": "stdout",
     "output_type": "stream",
     "text": [
      "Tesla supports self driving True\n",
      "5\n",
      "The person will drive electric car\n"
     ]
    }
   ],
   "source": [
    "tesla1 = Tesla(4,5,\"electric\", True)\n",
    "tesla1.selfdriving()\n",
    "print(tesla1.doors)\n",
    "tesla1.drive()"
   ]
  },
  {
   "cell_type": "code",
   "execution_count": 14,
   "id": "abdc7841",
   "metadata": {},
   "outputs": [
    {
     "name": "stdout",
     "output_type": "stream",
     "text": [
      "oslo says whoff!\n",
      "owner is Prasad\n"
     ]
    }
   ],
   "source": [
    "## Multiple inheritance --> when a class inherits from more than one base class\n",
    "\n",
    "# base class 1\n",
    "class Animal:\n",
    "    def __init__(self, name):\n",
    "        self.name = name\n",
    "    \n",
    "    def speak(self):\n",
    "        print(\"subclass must implement this method\")\n",
    "\n",
    "# Base class 2\n",
    "class Pet:\n",
    "    def __init__(self, owner):\n",
    "        self.owner = owner\n",
    "\n",
    "# Derived class\n",
    "\n",
    "class Dog(Animal, Pet):\n",
    "    def __init__(self, name, owner):\n",
    "        # super().__init__(self, name)\n",
    "        # super().__init__(self, owner)\n",
    "\n",
    "        # Alternatively\n",
    "        Animal.__init__(self, name)\n",
    "        Pet.__init__(self, owner)\n",
    "\n",
    "    def speak(self):\n",
    "        return f\"{self.name} says whoff!\"\n",
    "    \n",
    "# object\n",
    "dog = Dog(\"oslo\", \"Prasad\")\n",
    "print(dog.speak())\n",
    "print(f\"owner is {dog.owner}\")"
   ]
  }
 ],
 "metadata": {
  "kernelspec": {
   "display_name": "Python 3",
   "language": "python",
   "name": "python3"
  },
  "language_info": {
   "codemirror_mode": {
    "name": "ipython",
    "version": 3
   },
   "file_extension": ".py",
   "mimetype": "text/x-python",
   "name": "python",
   "nbconvert_exporter": "python",
   "pygments_lexer": "ipython3",
   "version": "3.13.4"
  }
 },
 "nbformat": 4,
 "nbformat_minor": 5
}
